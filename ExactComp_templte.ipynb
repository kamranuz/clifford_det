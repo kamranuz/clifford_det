{
 "cells": [
  {
   "cell_type": "code",
   "execution_count": 4,
   "metadata": {
    "id": "v1-Xts03y-no"
   },
   "outputs": [],
   "source": [
    "import clifford as cl\n",
    "\n",
    "import coefficients_recursive as recur\n",
    "import coefficients_explicit as expli"
   ]
  },
  {
   "cell_type": "code",
   "execution_count": 5,
   "metadata": {},
   "outputs": [
    {
     "data": {
      "text/plain": [
       "2 + (2^e1) - (2^e2) + (3^e3) - (3^e5) - (5^e12) + (4^e13) - (5^e14) + (5^e15) - (5^e23) - (1^e24) + (4^e25) - (1^e34) + (1^e35) + (5^e45) + (4^e124) + (1^e125) - (3^e134) - (3^e135) + (4^e145) + (1^e234) - (3^e235) + (4^e245) + (3^e345) - (2^e1234) + (1^e1235) + (5^e1245) - (3^e1345) + (3^e2345) + (3^e12345)"
      ]
     },
     "execution_count": 5,
     "metadata": {},
     "output_type": "execute_result"
    }
   ],
   "source": [
    "# create Cl(5,0)\n",
    "l, b = cl.Cl(5,0)\n",
    "locals().update(b)\n",
    "\n",
    "# create random MV with integer coefficients\n",
    "import random\n",
    "u = sum(random.randint(-5,5)*b[i] for i in b)\n",
    "\n",
    "# Or one can create random MV with rational coefficients, but for coefficients the calculation error is too high\n",
    "# u = l.randomMV(min=-5, max=5)\n",
    "\n",
    "\n",
    "#calculate main operations of conjugation\n",
    "def triangle(v):\n",
    "    return v-2*(v(4)+v(5))\n",
    "\n",
    "r = (~u)\n",
    "g = u.gradeInvol()\n",
    "c = (~u).gradeInvol()\n",
    "t = triangle(u)\n",
    "e = u(0)/u[0]\n",
    "\n",
    "# print random MV\n",
    "u"
   ]
  },
  {
   "cell_type": "code",
   "execution_count": 8,
   "metadata": {},
   "outputs": [
    {
     "name": "stdout",
     "output_type": "stream",
     "text": [
      "Wall time: 7.88 ms\n"
     ]
    },
    {
     "data": {
      "text/plain": [
       "[16.0,\n",
       " -764.0,\n",
       " -1408.0,\n",
       " -195886.0,\n",
       " 188368.0,\n",
       " -15063852.0,\n",
       " -52069280.0,\n",
       " -455823225.0]"
      ]
     },
     "execution_count": 8,
     "metadata": {},
     "output_type": "execute_result"
    }
   ],
   "source": [
    "%%time\n",
    "\n",
    "# get the generator of the characteristic polynomial coefficients and the corresponding auxiliary elements for n=5, element u\n",
    "# using recursive algorithm\n",
    "coefficients_recur = recur.get_coefficients(5,u, get_grade0 = lambda x: x[0])\n",
    "\n",
    "# cast coefficients generator to list of coefficients\n",
    "lcr = list(coefficients_recur)\n",
    "coefficients_recur = [i[0] for i in lcr]\n",
    "auxiliary_recur = [i[1] for i in lcr]\n",
    "\n",
    "# print the list of the characteristic polynomial coefficients for n=5, element u\n",
    "coefficients_recur"
   ]
  },
  {
   "cell_type": "code",
   "execution_count": 9,
   "metadata": {},
   "outputs": [
    {
     "name": "stdout",
     "output_type": "stream",
     "text": [
      "Wall time: 2.45 s\n"
     ]
    },
    {
     "data": {
      "text/plain": [
       "[16, -764, -1408, -195886, 188368, -15063852, -52069280, -455823225]"
      ]
     },
     "execution_count": 9,
     "metadata": {},
     "output_type": "execute_result"
    }
   ],
   "source": [
    "%%time\n",
    "\n",
    "# get the generator of characteristic polynomial coefficients for n=5, element u\n",
    "# using explisit formulas\n",
    "coefficients_expli = expli.get_coefficients(5,el=u,cliff=c,grade=g,rever=r,trian= triangle)\n",
    "\n",
    "# cast coefficients generator to list of coefficients\n",
    "coefficients_expli = list(coefficients_expli)\n",
    "\n",
    "# print the list of the characteristic polynomial coefficients for n=5, element u\n",
    "coefficients_expli"
   ]
  },
  {
   "cell_type": "code",
   "execution_count": 10,
   "metadata": {},
   "outputs": [
    {
     "data": {
      "text/plain": [
       "1.0"
      ]
     },
     "execution_count": 10,
     "metadata": {},
     "output_type": "execute_result"
    }
   ],
   "source": [
    "# Computation of the inverse\n",
    "adj_u = auxiliary_recur[6]-coefficients_recur[6]\n",
    "det_u = coefficients_recur[7]\n",
    "inv_u = adj_u/det_u\n",
    "\n",
    "# check computed inverse (should result in 1)\n",
    "u * inv_u"
   ]
  }
 ],
 "metadata": {
  "colab": {
   "name": "Untitled2.ipynb",
   "provenance": []
  },
  "kernelspec": {
   "display_name": "Python 3",
   "language": "python",
   "name": "python3"
  },
  "language_info": {
   "codemirror_mode": {
    "name": "ipython",
    "version": 3
   },
   "file_extension": ".py",
   "mimetype": "text/x-python",
   "name": "python",
   "nbconvert_exporter": "python",
   "pygments_lexer": "ipython3",
   "version": "3.9.5"
  }
 },
 "nbformat": 4,
 "nbformat_minor": 1
}
