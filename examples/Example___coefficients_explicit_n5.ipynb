{
  "cells": [
    {
      "cell_type": "markdown",
      "metadata": {
        "id": "BgD7IaenqG4B"
      },
      "source": [
        "# Example for `coefficients_explicit_n5.py`"
      ]
    },
    {
      "cell_type": "markdown",
      "source": [
        "We  implemented formulas for the characteristic polynomial coefficients from paper **\"Basis-free Formulas for Characteristic Polynomial Coefficients in Geometric Algebras\"** (*Theorem 5.1*)  in `coefficients_explicit_n5.py`. The implementation is valid for `clifford` (symbolic) and `galgebra` (numeric) python packages."
      ],
      "metadata": {
        "id": "7uAxfQrMfL3O"
      }
    },
    {
      "cell_type": "code",
      "execution_count": null,
      "metadata": {
        "cellView": "form",
        "id": "v1-Xts03y-no"
      },
      "outputs": [],
      "source": [
        "#@title Install and import `clifford` and `galgebra` packages\n",
        "!pip install clifford\n",
        "!pip install galgebra\n",
        "import clifford as cl\n",
        "import sympy\n",
        "from galgebra.ga import Ga"
      ]
    },
    {
      "cell_type": "code",
      "execution_count": null,
      "metadata": {
        "cellView": "form",
        "id": "5CHYUDKZrfff"
      },
      "outputs": [],
      "source": [
        "#@title Import latex printer for notebook\n",
        "from sympy import init_printing\n",
        "def custom_latex_printer(exp,**options):\n",
        "    from google.colab.output._publish import javascript\n",
        "    url = \"https://cdnjs.cloudflare.com/ajax/libs/mathjax/2.7.3/latest.js?config=default\"\n",
        "    javascript(url=url)\n",
        "    return sympy.printing.latex(exp,**options)\n",
        "init_printing(use_latex=\"mathjax\",latex_printer=custom_latex_printer)"
      ]
    },
    {
      "cell_type": "code",
      "execution_count": null,
      "metadata": {
        "cellView": "form",
        "id": "ZlluRKWdfrq8"
      },
      "outputs": [],
      "source": [
        "#@title Import our formulas for the characteristic polynomial coefficients in the case $n=5$\n",
        "!wget https://raw.githubusercontent.com/kamranuz/clifford_det/main/coefficients_explicit_n5.py\n",
        "!wget https://raw.githubusercontent.com/kamranuz/clifford_det/main/coefficients_recursive.py\n",
        "\n",
        "import coefficients_explicit_n5 as expli_n5\n",
        "import coefficients_recursive as recur"
      ]
    },
    {
      "cell_type": "markdown",
      "metadata": {
        "id": "eNLxNO50o4dk"
      },
      "source": [
        "## `clifford`: numerical Geometric Algebra package for python"
      ]
    },
    {
      "cell_type": "code",
      "execution_count": null,
      "metadata": {
        "cellView": "form",
        "colab": {
          "base_uri": "https://localhost:8080/"
        },
        "id": "5Rs7T_sFP5Lq",
        "outputId": "d7c1fc58-a382-4895-f15f-a0b7e6e391e0"
      },
      "outputs": [
        {
          "output_type": "stream",
          "name": "stdout",
          "text": [
            "U = 2 - (2^e1) - (1^e3) + (5^e4) - (1^e5) + (5^e12) + (2^e13) - (4^e14) - (3^e15) - (2^e24) + (1^e25) + (1^e35) + (1^e45) - (2^e123) + (5^e124) + (4^e125) + (4^e134) + (4^e135) - (2^e145) + (4^e234) + (4^e235) - (2^e245) - (3^e345) + (3^e1234) - (2^e1235) - (5^e1245) - (1^e1345) + (4^e2345) - (1^e12345)\n",
            "CPU times: user 3.19 ms, sys: 16 µs, total: 3.2 ms\n",
            "Wall time: 2.55 ms\n"
          ]
        }
      ],
      "source": [
        "%%time\n",
        "\n",
        "#@title Create $U\\in Cl_{5,0}$ with random integer coefficients\n",
        "l, b = cl.Cl(5,0)\n",
        "locals().update(b)\n",
        "\n",
        "# create random MV with integer coefficients\n",
        "import random\n",
        "u = sum(random.randint(-5,5)*b[i] for i in b)\n",
        "\n",
        "# Or one can create random MV with rational coefficients, but for the rational coefficients the calculation error is too high\n",
        "# u = l.randomMV(min=-5, max=5)\n",
        "\n",
        "# print random MV\n",
        "print('U =',u)"
      ]
    },
    {
      "cell_type": "markdown",
      "metadata": {
        "id": "kFd_sdg9mASR"
      },
      "source": [
        "Using ***explicit*** formulas for the characteristic polynomial coefficients $C_{(i)}$ in the case $n=5$ from `coefficients_explicit_n5.py`, we compute the coefficients $C_{(i)}$, $\\quad i=1,2,\\ldots,8$:"
      ]
    },
    {
      "cell_type": "code",
      "execution_count": null,
      "metadata": {
        "colab": {
          "base_uri": "https://localhost:8080/"
        },
        "id": "zz1cF6ZtP5Lu",
        "outputId": "74dc9d9f-3fc9-4e50-8a4b-5ba165f1d4ea"
      },
      "outputs": [
        {
          "output_type": "stream",
          "name": "stdout",
          "text": [
            "CPU times: user 969 ms, sys: 9.79 ms, total: 979 ms\n",
            "Wall time: 1.04 s\n"
          ]
        }
      ],
      "source": [
        "%%time\n",
        "\n",
        "# get the generator of characteristic polynomial coefficients for n=5, element u\n",
        "# using explisit formulas\n",
        "coefficients_expli = expli_n5.get_coefficients(u)\n",
        "\n",
        "# cast coefficients generator to list of coefficients\n",
        "coefficients_expli = list(coefficients_expli)"
      ]
    },
    {
      "cell_type": "markdown",
      "metadata": {
        "id": "Gdt5m_NihX1a"
      },
      "source": [
        "As an example, let us compare the results with recursive formulas. \n",
        "\n",
        "Using ***recursive*** formulas for the characteristic polynomial coefficients $C_{(i)}$ in the case $n=5$  from `coefficients_recur.py`, we compute the coefficients $C_{(i)}$ and auxiliary terms $U_{(i)}$, $\\quad i=1,2,\\ldots,8$:"
      ]
    },
    {
      "cell_type": "code",
      "execution_count": null,
      "metadata": {
        "colab": {
          "base_uri": "https://localhost:8080/"
        },
        "id": "nZ9ivUM-P5Ls",
        "outputId": "4a940371-a255-4b75-b5ac-751f77e6360b"
      },
      "outputs": [
        {
          "output_type": "stream",
          "name": "stdout",
          "text": [
            "CPU times: user 300 ms, sys: 2.02 ms, total: 303 ms\n",
            "Wall time: 319 ms\n"
          ]
        }
      ],
      "source": [
        "%%time\n",
        "\n",
        "# get the generator of the characteristic polynomial coefficients and the corresponding auxiliary elements for n=5, element u\n",
        "# using recursive algorithm\n",
        "coefficients_recur = recur.get_coefficients(u)\n",
        "auxiliary_recur = recur.get_auxiliary(u)\n",
        "\n",
        "# cast coefficients generator to list of coefficients\n",
        "coefficients_recur = list(coefficients_recur)\n",
        "auxiliary_recur = list(auxiliary_recur)"
      ]
    },
    {
      "cell_type": "markdown",
      "metadata": {
        "id": "rCGP1ewVnAkk"
      },
      "source": [
        "Compare the results of ***explicit*** and ***recursive*** formulas in the case $n=5$"
      ]
    },
    {
      "cell_type": "code",
      "execution_count": null,
      "metadata": {
        "colab": {
          "base_uri": "https://localhost:8080/"
        },
        "id": "I5AR6mICWEfz",
        "outputId": "d7be6480-e36b-4415-e449-7a6d8e13ad00"
      },
      "outputs": [
        {
          "output_type": "stream",
          "name": "stdout",
          "text": [
            "Recursive:  [16.0, -512.0, 992.0, -83320.0, 20032.0, -13219200.0, -36650112.0, -982210320.0]\n",
            "Explicit:   [16, -512, 992, -83320, 20032, -13219200, -36650112, -982210320]\n"
          ]
        }
      ],
      "source": [
        "print('Recursive: ', coefficients_recur)\n",
        "print('Explicit:  ', coefficients_expli)"
      ]
    },
    {
      "cell_type": "markdown",
      "metadata": {
        "id": "QyhyenR4hJef"
      },
      "source": [
        "Compute the inverse of the element $U$"
      ]
    },
    {
      "cell_type": "code",
      "execution_count": null,
      "metadata": {
        "colab": {
          "base_uri": "https://localhost:8080/"
        },
        "id": "ty9YwG21P5Lv",
        "outputId": "513c4136-408e-4fc4-be77-84c23646147e"
      },
      "outputs": [
        {
          "output_type": "stream",
          "name": "stdout",
          "text": [
            "CPU times: user 297 ms, sys: 2.95 ms, total: 300 ms\n",
            "Wall time: 322 ms\n"
          ]
        }
      ],
      "source": [
        "%%time\n",
        "adj_u = auxiliary_recur[6]-coefficients_expli[6]\n",
        "det_u = coefficients_expli[7]\n",
        "inv_u = adj_u/det_u"
      ]
    },
    {
      "cell_type": "markdown",
      "metadata": {
        "id": "jDWXxCsqhE26"
      },
      "source": [
        "Check computed inverse of the element $U$  ($U \\cdot U^{-1}$  should be equal to $1$):"
      ]
    },
    {
      "cell_type": "code",
      "execution_count": null,
      "metadata": {
        "colab": {
          "base_uri": "https://localhost:8080/",
          "height": 35
        },
        "id": "tXCFBnpqWcKS",
        "outputId": "c58a4400-c50e-4197-f002-b10651918573"
      },
      "outputs": [
        {
          "output_type": "execute_result",
          "data": {
            "application/vnd.google.colaboratory.intrinsic+json": {
              "type": "string"
            },
            "text/plain": [
              "'U * U_inv = 1.0'"
            ]
          },
          "metadata": {},
          "execution_count": 13
        }
      ],
      "source": [
        "f'U * U_inv = {u * inv_u}'"
      ]
    },
    {
      "cell_type": "markdown",
      "metadata": {
        "id": "f7-bPrIDpGZ6"
      },
      "source": [
        "## `GAlgebra`: Symbolic Geometric Algebra/Calculus package for SymPy"
      ]
    },
    {
      "cell_type": "code",
      "execution_count": null,
      "metadata": {
        "id": "Xy5VVGzhqRpz",
        "cellView": "form"
      },
      "outputs": [],
      "source": [
        "#@title Create $V\\in Cl_{5,0}$ \n",
        "\n",
        "e12345 = sympy.symbols('1 2 3 4 5', real=True)\n",
        "eta=[1, 1, 1, 1, 1]\n",
        "o3d = Ga('e1 e2 e3 e4 e5', g=eta, coords=e12345)\n",
        "grad = o3d.grad\n",
        "v = o3d.mv('v', 'mv')"
      ]
    },
    {
      "cell_type": "markdown",
      "source": [
        "Using ***explicit*** formulas for the characteristic polynomial coefficients in the case $n=5$ from `coefficients_explicit_n5.py`, we compute the coefficients $C_{(1)}$ and $C_{(2)}$"
      ],
      "metadata": {
        "id": "U-jD43Rsi9qT"
      }
    },
    {
      "cell_type": "code",
      "execution_count": null,
      "metadata": {
        "id": "lXOqkpXzs-Qp",
        "colab": {
          "base_uri": "https://localhost:8080/"
        },
        "outputId": "0b041308-34e5-40e7-a2b0-0ae3e2631585"
      },
      "outputs": [
        {
          "output_type": "stream",
          "name": "stdout",
          "text": [
            "CPU times: user 7 µs, sys: 0 ns, total: 7 µs\n",
            "Wall time: 12.2 µs\n"
          ]
        }
      ],
      "source": [
        "%%time\n",
        "\n",
        "# get the generator of characteristic polynomial coefficients for n=5, element u\n",
        "# using explisit formulas\n",
        "coefs_generator = expli_n5.get_coefficients(v)"
      ]
    },
    {
      "cell_type": "code",
      "execution_count": null,
      "metadata": {
        "colab": {
          "base_uri": "https://localhost:8080/"
        },
        "id": "QHZIUJxbsbP3",
        "outputId": "dbbadd63-86f7-413b-80a4-ef4c0482c75d"
      },
      "outputs": [
        {
          "output_type": "stream",
          "name": "stdout",
          "text": [
            "CPU times: user 455 ms, sys: 988 µs, total: 456 ms\n",
            "Wall time: 740 ms\n"
          ]
        }
      ],
      "source": [
        "%%time\n",
        "c1 = next(coefs_generator)"
      ]
    },
    {
      "cell_type": "code",
      "execution_count": null,
      "metadata": {
        "colab": {
          "base_uri": "https://localhost:8080/"
        },
        "id": "1RHYi6DXuxul",
        "outputId": "e4bc1ea2-e824-4093-a8fc-6e89840c5bee"
      },
      "outputs": [
        {
          "output_type": "stream",
          "name": "stdout",
          "text": [
            "CPU times: user 8min 50s, sys: 1.37 s, total: 8min 51s\n",
            "Wall time: 9min 32s\n"
          ]
        }
      ],
      "source": [
        "%%time\n",
        "c2 = next(coefs_generator)"
      ]
    },
    {
      "cell_type": "code",
      "source": [
        "print('C_1:')\n",
        "c1,"
      ],
      "metadata": {
        "colab": {
          "base_uri": "https://localhost:8080/",
          "height": 56
        },
        "id": "TCrJzDgkhvBV",
        "outputId": "7346e092-2173-40fe-cfca-e021bc2ed3ec"
      },
      "execution_count": null,
      "outputs": [
        {
          "output_type": "stream",
          "name": "stdout",
          "text": [
            "C_1:\n"
          ]
        },
        {
          "output_type": "display_data",
          "data": {
            "text/html": [
              "<script src='https://cdnjs.cloudflare.com/ajax/libs/mathjax/2.7.3/latest.js?config=default'></script>"
            ],
            "text/plain": [
              "<IPython.core.display.HTML object>"
            ]
          },
          "metadata": {}
        },
        {
          "output_type": "execute_result",
          "data": {
            "text/latex": "$\\displaystyle \\left( 8 v,\\right)$",
            "text/plain": [
              "(8*v,)"
            ]
          },
          "metadata": {},
          "execution_count": 41
        }
      ]
    },
    {
      "cell_type": "code",
      "source": [
        "print('C_2:')\n",
        "c2,"
      ],
      "metadata": {
        "colab": {
          "base_uri": "https://localhost:8080/",
          "height": 85
        },
        "id": "Brpc0vqHhr9W",
        "outputId": "51f6ef20-da7c-4dc0-c5bb-55cadcf79caa"
      },
      "execution_count": null,
      "outputs": [
        {
          "output_type": "stream",
          "name": "stdout",
          "text": [
            "C_2:\n"
          ]
        },
        {
          "output_type": "display_data",
          "data": {
            "text/html": [
              "<script src='https://cdnjs.cloudflare.com/ajax/libs/mathjax/2.7.3/latest.js?config=default'></script>"
            ],
            "text/plain": [
              "<IPython.core.display.HTML object>"
            ]
          },
          "metadata": {}
        },
        {
          "output_type": "execute_result",
          "data": {
            "text/latex": "$\\displaystyle \\left( - 28 v^{2} + 4 \\left(v^{1}\\right)^{2} - 4 \\left(v^{12}\\right)^{2} - 4 \\left(v^{123}\\right)^{2} + 4 \\left(v^{1234}\\right)^{2} + 4 \\left(v^{12345}\\right)^{2} + 4 \\left(v^{1235}\\right)^{2} - 4 \\left(v^{124}\\right)^{2} + 4 \\left(v^{1245}\\right)^{2} - 4 \\left(v^{125}\\right)^{2} - 4 \\left(v^{13}\\right)^{2} - 4 \\left(v^{134}\\right)^{2} + 4 \\left(v^{1345}\\right)^{2} - 4 \\left(v^{135}\\right)^{2} - 4 \\left(v^{14}\\right)^{2} - 4 \\left(v^{145}\\right)^{2} - 4 \\left(v^{15}\\right)^{2} + 4 \\left(v^{2}\\right)^{2} - 4 \\left(v^{23}\\right)^{2} - 4 \\left(v^{234}\\right)^{2} + 4 \\left(v^{2345}\\right)^{2} - 4 \\left(v^{235}\\right)^{2} - 4 \\left(v^{24}\\right)^{2} - 4 \\left(v^{245}\\right)^{2} - 4 \\left(v^{25}\\right)^{2} + 4 \\left(v^{3}\\right)^{2} - 4 \\left(v^{34}\\right)^{2} - 4 \\left(v^{345}\\right)^{2} - 4 \\left(v^{35}\\right)^{2} + 4 \\left(v^{4}\\right)^{2} - 4 \\left(v^{45}\\right)^{2} + 4 \\left(v^{5}\\right)^{2},\\right)$",
            "text/plain": [
              "(-28*v**2 + 4*v__1**2 - 4*v__12**2 - 4*v__123**2 + 4*v__1234**2 + 4*v__12345**\n",
              "2 + 4*v__1235**2 - 4*v__124**2 + 4*v__1245**2 - 4*v__125**2 - 4*v__13**2 - 4*v\n",
              "__134**2 + 4*v__1345**2 - 4*v__135**2 - 4*v__14**2 - 4*v__145**2 - 4*v__15**2 \n",
              "+ 4*v__2**2 - 4*v__23**2 - 4*v__234**2 + 4*v__2345**2 - 4*v__235**2 - 4*v__24*\n",
              "*2 - 4*v__245**2 - 4*v__25**2 + 4*v__3**2 - 4*v__34**2 - 4*v__345**2 - 4*v__35\n",
              "**2 + 4*v__4**2 - 4*v__45**2 + 4*v__5**2,)"
            ]
          },
          "metadata": {},
          "execution_count": 42
        }
      ]
    }
  ],
  "metadata": {
    "colab": {
      "collapsed_sections": [],
      "name": "Example | coefficients_explicit_n5.ipynb",
      "provenance": []
    },
    "kernelspec": {
      "display_name": "Python 3",
      "language": "python",
      "name": "python3"
    },
    "language_info": {
      "codemirror_mode": {
        "name": "ipython",
        "version": 3
      },
      "file_extension": ".py",
      "mimetype": "text/x-python",
      "name": "python",
      "nbconvert_exporter": "python",
      "pygments_lexer": "ipython3",
      "version": "3.9.5"
    }
  },
  "nbformat": 4,
  "nbformat_minor": 0
}