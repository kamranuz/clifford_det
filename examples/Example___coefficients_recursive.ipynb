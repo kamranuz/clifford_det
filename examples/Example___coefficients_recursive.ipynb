{
  "cells": [
    {
      "cell_type": "markdown",
      "metadata": {
        "id": "BgD7IaenqG4B"
      },
      "source": [
        "# Example for `coefficients_recursive.py`"
      ]
    },
    {
      "cell_type": "markdown",
      "source": [
        "We  implemented *recursive* formulas for the characteristic polynomial coefficients from paper [**\"On computing the determinant, other characteristic polynomial coefficients, and inverse in Clifford algebras of arbitrary dimension\"**](https://arxiv.org/abs/2005.04015) (*Theorem 4*)  in `coefficients_recursive.py`. The implementation is valid for `clifford` (symbolic) and `galgebra` (numeric) python packages."
      ],
      "metadata": {
        "id": "7uAxfQrMfL3O"
      }
    },
    {
      "cell_type": "code",
      "execution_count": null,
      "metadata": {
        "cellView": "form",
        "id": "v1-Xts03y-no"
      },
      "outputs": [],
      "source": [
        "#@title Install and import `clifford` and `galgebra` packages\n",
        "!pip install clifford\n",
        "!pip install galgebra\n",
        "import clifford as cl\n",
        "import sympy\n",
        "from galgebra.ga import Ga"
      ]
    },
    {
      "cell_type": "code",
      "execution_count": null,
      "metadata": {
        "cellView": "form",
        "id": "5CHYUDKZrfff"
      },
      "outputs": [],
      "source": [
        "#@title Import latex printer for notebook\n",
        "from sympy import init_printing\n",
        "def custom_latex_printer(exp,**options):\n",
        "    from google.colab.output._publish import javascript\n",
        "    url = \"https://cdnjs.cloudflare.com/ajax/libs/mathjax/2.7.3/latest.js?config=default\"\n",
        "    javascript(url=url)\n",
        "    return sympy.printing.latex(exp,**options)\n",
        "init_printing(use_latex=\"mathjax\",latex_printer=custom_latex_printer)"
      ]
    },
    {
      "cell_type": "code",
      "execution_count": null,
      "metadata": {
        "cellView": "form",
        "id": "ZlluRKWdfrq8"
      },
      "outputs": [],
      "source": [
        "#@title Import our formulas for the characteristic polynomial coefficients in the case $n=5$\n",
        "!wget https://raw.githubusercontent.com/kamranuz/clifford_det/main/coefficients_recursive.py\n",
        "\n",
        "import coefficients_recursive as recur"
      ]
    },
    {
      "cell_type": "markdown",
      "metadata": {
        "id": "eNLxNO50o4dk"
      },
      "source": [
        "## `clifford`: numerical Geometric Algebra package for python"
      ]
    },
    {
      "cell_type": "code",
      "execution_count": null,
      "metadata": {
        "cellView": "form",
        "colab": {
          "base_uri": "https://localhost:8080/"
        },
        "id": "5Rs7T_sFP5Lq",
        "outputId": "7421705c-f90e-4f3a-87f8-f34e88fa0f92"
      },
      "outputs": [
        {
          "output_type": "stream",
          "name": "stdout",
          "text": [
            "U = 2 + (4^e1) - (4^e2) - (2^e3) + (2^e4) - (5^e5) + (2^e12) + (1^e13) + (3^e14) - (2^e15) - (5^e23) - (4^e24) - (5^e25) - (3^e34) + (1^e35) - (4^e45) - (3^e123) + (4^e124) - (3^e125) - (2^e134) - (5^e145) + (5^e234) + (5^e235) + (3^e345) - (5^e1234) - (5^e1235) - (2^e1245) - (4^e1345) + (3^e2345) + (3^e12345)\n",
            "CPU times: user 3.83 ms, sys: 0 ns, total: 3.83 ms\n",
            "Wall time: 7.73 ms\n"
          ]
        }
      ],
      "source": [
        "%%time\n",
        "\n",
        "#@title Create $U\\in Cl_{5,0}$ with random integer coefficients\n",
        "l, b = cl.Cl(5,0)\n",
        "locals().update(b)\n",
        "\n",
        "# create random MV with integer coefficients\n",
        "import random\n",
        "u = sum(random.randint(-5,5)*b[i] for i in b)\n",
        "\n",
        "# Or one can create random MV with rational coefficients, but for the rational coefficients the calculation error is too high\n",
        "# u = l.randomMV(min=-5, max=5)\n",
        "\n",
        "# print random MV\n",
        "print('U =',u)"
      ]
    },
    {
      "cell_type": "markdown",
      "metadata": {
        "id": "Gdt5m_NihX1a"
      },
      "source": [
        "Using ***recursive*** formulas for the characteristic polynomial coefficients $C_{(i)}$ in the case $n=5$  from `coefficients_recur.py`, we compute the coefficients $C_{(i)}$ and auxiliary terms $U_{(i)}$, $\\quad i=1,2,\\ldots,8$:"
      ]
    },
    {
      "cell_type": "code",
      "execution_count": null,
      "metadata": {
        "colab": {
          "base_uri": "https://localhost:8080/"
        },
        "id": "nZ9ivUM-P5Ls",
        "outputId": "1ba38aa3-20bc-471e-c99b-8e0976a2fa9d"
      },
      "outputs": [
        {
          "output_type": "stream",
          "name": "stdout",
          "text": [
            "CPU times: user 2.7 ms, sys: 0 ns, total: 2.7 ms\n",
            "Wall time: 8.5 ms\n"
          ]
        }
      ],
      "source": [
        "%%time\n",
        "\n",
        "# get the generator of the characteristic polynomial coefficients and the corresponding auxiliary elements for n=5, element u\n",
        "# using recursive algorithm\n",
        "coefficients_recur = recur.get_coefficients(u)\n",
        "auxiliary_recur = recur.get_auxiliary(u)\n",
        "\n",
        "# cast coefficients generator to list of coefficients\n",
        "coefficients_recur = list(coefficients_recur)\n",
        "auxiliary_recur = list(auxiliary_recur)"
      ]
    },
    {
      "cell_type": "markdown",
      "metadata": {
        "id": "rCGP1ewVnAkk"
      },
      "source": [
        "Compare the results of ***explicit*** and ***recursive*** formulas in the case $n=5$"
      ]
    },
    {
      "cell_type": "code",
      "execution_count": null,
      "metadata": {
        "colab": {
          "base_uri": "https://localhost:8080/"
        },
        "id": "I5AR6mICWEfz",
        "outputId": "a61eef96-1f7e-4c9b-e792-5a431e4ca46a"
      },
      "outputs": [
        {
          "output_type": "stream",
          "name": "stdout",
          "text": [
            "Characteristic polynomial coefficients:  [16.0, -428.0, 5296.0, 140794.0, 1159344.0, -33700972.0, -421185776.0, -2395563873.0]\n"
          ]
        }
      ],
      "source": [
        "print('Characteristic polynomial coefficients: ', coefficients_recur)"
      ]
    },
    {
      "cell_type": "markdown",
      "metadata": {
        "id": "QyhyenR4hJef"
      },
      "source": [
        "Compute the inverse of the element $U$"
      ]
    },
    {
      "cell_type": "code",
      "execution_count": null,
      "metadata": {
        "colab": {
          "base_uri": "https://localhost:8080/"
        },
        "id": "ty9YwG21P5Lv",
        "outputId": "866cd40f-a8c2-4ebb-ae40-c95df2ca0580"
      },
      "outputs": [
        {
          "output_type": "stream",
          "name": "stdout",
          "text": [
            "CPU times: user 1.67 ms, sys: 0 ns, total: 1.67 ms\n",
            "Wall time: 6.12 ms\n"
          ]
        }
      ],
      "source": [
        "%%time\n",
        "adj_u = auxiliary_recur[6]-coefficients_recur[6]\n",
        "det_u = coefficients_recur[7]\n",
        "inv_u = adj_u/det_u"
      ]
    },
    {
      "cell_type": "markdown",
      "metadata": {
        "id": "jDWXxCsqhE26"
      },
      "source": [
        "Check computed inverse of the element $U$  ($U \\cdot U^{-1}$  should be equal to $1$):"
      ]
    },
    {
      "cell_type": "code",
      "execution_count": null,
      "metadata": {
        "colab": {
          "base_uri": "https://localhost:8080/",
          "height": 35
        },
        "id": "tXCFBnpqWcKS",
        "outputId": "bc40fd52-a7e6-46ae-dbda-4c93fbbde130"
      },
      "outputs": [
        {
          "output_type": "execute_result",
          "data": {
            "application/vnd.google.colaboratory.intrinsic+json": {
              "type": "string"
            },
            "text/plain": [
              "'U * U_inv = 1.0'"
            ]
          },
          "metadata": {},
          "execution_count": 11
        }
      ],
      "source": [
        "f'U * U_inv = {u * inv_u}'"
      ]
    },
    {
      "cell_type": "markdown",
      "metadata": {
        "id": "f7-bPrIDpGZ6"
      },
      "source": [
        "## `GAlgebra`: Symbolic Geometric Algebra/Calculus package for SymPy"
      ]
    },
    {
      "cell_type": "code",
      "execution_count": null,
      "metadata": {
        "id": "Xy5VVGzhqRpz",
        "cellView": "form"
      },
      "outputs": [],
      "source": [
        "#@title Create $V\\in Cl_{5,0}$ \n",
        "\n",
        "e12345 = sympy.symbols('1 2 3 4 5', real=True)\n",
        "eta=[1, 1, 1, 1, 1]\n",
        "o3d = Ga('e1 e2 e3 e4 e5', g=eta, coords=e12345)\n",
        "grad = o3d.grad\n",
        "v = o3d.mv('v', 'mv')"
      ]
    },
    {
      "cell_type": "markdown",
      "source": [
        "Using ***explicit*** formulas for the characteristic polynomial coefficients in the case $n=5$ from `coefficients_explicit_n5.py`, we compute the coefficients $C_{(1)}$ and $C_{(2)}$"
      ],
      "metadata": {
        "id": "U-jD43Rsi9qT"
      }
    },
    {
      "cell_type": "code",
      "execution_count": null,
      "metadata": {
        "id": "lXOqkpXzs-Qp",
        "colab": {
          "base_uri": "https://localhost:8080/"
        },
        "outputId": "e8e6eaca-9a0a-47e6-87d1-91e86497e3c6"
      },
      "outputs": [
        {
          "output_type": "stream",
          "name": "stdout",
          "text": [
            "CPU times: user 6 µs, sys: 1 µs, total: 7 µs\n",
            "Wall time: 11.9 µs\n"
          ]
        }
      ],
      "source": [
        "%%time\n",
        "\n",
        "# get the generator of characteristic polynomial coefficients for n=5, element u\n",
        "# using explisit formulas\n",
        "coefs_generator = recur.get_coefficients(v)"
      ]
    },
    {
      "cell_type": "code",
      "execution_count": null,
      "metadata": {
        "colab": {
          "base_uri": "https://localhost:8080/"
        },
        "id": "QHZIUJxbsbP3",
        "outputId": "a0581dba-2369-4fe0-a84c-9528e08cbb7f"
      },
      "outputs": [
        {
          "output_type": "stream",
          "name": "stdout",
          "text": [
            "CPU times: user 1.13 ms, sys: 125 µs, total: 1.25 ms\n",
            "Wall time: 2.34 ms\n"
          ]
        }
      ],
      "source": [
        "%%time\n",
        "c1 = next(coefs_generator)"
      ]
    },
    {
      "cell_type": "code",
      "execution_count": null,
      "metadata": {
        "colab": {
          "base_uri": "https://localhost:8080/"
        },
        "id": "1RHYi6DXuxul",
        "outputId": "d062a385-38c0-43fa-bf84-e9a967eff19d"
      },
      "outputs": [
        {
          "output_type": "stream",
          "name": "stdout",
          "text": [
            "CPU times: user 23.5 s, sys: 100 ms, total: 23.6 s\n",
            "Wall time: 39.3 s\n"
          ]
        }
      ],
      "source": [
        "%%time\n",
        "c2 = next(coefs_generator)"
      ]
    },
    {
      "cell_type": "code",
      "source": [
        "print('C_1:')\n",
        "c1,"
      ],
      "metadata": {
        "colab": {
          "base_uri": "https://localhost:8080/",
          "height": 56
        },
        "id": "TCrJzDgkhvBV",
        "outputId": "ca79b84a-9dfa-4ea0-e9e9-555a837ba5ea"
      },
      "execution_count": null,
      "outputs": [
        {
          "output_type": "stream",
          "name": "stdout",
          "text": [
            "C_1:\n"
          ]
        },
        {
          "output_type": "display_data",
          "data": {
            "text/html": [
              "<script src='https://cdnjs.cloudflare.com/ajax/libs/mathjax/2.7.3/latest.js?config=default'></script>"
            ],
            "text/plain": [
              "<IPython.core.display.HTML object>"
            ]
          },
          "metadata": {}
        },
        {
          "output_type": "execute_result",
          "data": {
            "text/latex": "$\\displaystyle \\left( 8.0 v,\\right)$",
            "text/plain": [
              "(8.0⋅v,)"
            ]
          },
          "metadata": {},
          "execution_count": 17
        }
      ]
    },
    {
      "cell_type": "code",
      "source": [
        "print('C_2:')\n",
        "c2,"
      ],
      "metadata": {
        "colab": {
          "base_uri": "https://localhost:8080/",
          "height": 85
        },
        "id": "Brpc0vqHhr9W",
        "outputId": "4ecd451d-5bda-4c76-c24f-8ba808e671a9"
      },
      "execution_count": null,
      "outputs": [
        {
          "output_type": "stream",
          "name": "stdout",
          "text": [
            "C_2:\n"
          ]
        },
        {
          "output_type": "display_data",
          "data": {
            "text/html": [
              "<script src='https://cdnjs.cloudflare.com/ajax/libs/mathjax/2.7.3/latest.js?config=default'></script>"
            ],
            "text/plain": [
              "<IPython.core.display.HTML object>"
            ]
          },
          "metadata": {}
        },
        {
          "output_type": "execute_result",
          "data": {
            "text/latex": "$\\displaystyle \\left( - 28.0 v^{2} + 4.0 \\left(v^{1}\\right)^{2} - 4.0 \\left(v^{12}\\right)^{2} - 4.0 \\left(v^{123}\\right)^{2} + 4.0 \\left(v^{1234}\\right)^{2} + 4.0 \\left(v^{12345}\\right)^{2} + 4.0 \\left(v^{1235}\\right)^{2} - 4.0 \\left(v^{124}\\right)^{2} + 4.0 \\left(v^{1245}\\right)^{2} - 4.0 \\left(v^{125}\\right)^{2} - 4.0 \\left(v^{13}\\right)^{2} - 4.0 \\left(v^{134}\\right)^{2} + 4.0 \\left(v^{1345}\\right)^{2} - 4.0 \\left(v^{135}\\right)^{2} - 4.0 \\left(v^{14}\\right)^{2} - 4.0 \\left(v^{145}\\right)^{2} - 4.0 \\left(v^{15}\\right)^{2} + 4.0 \\left(v^{2}\\right)^{2} - 4.0 \\left(v^{23}\\right)^{2} - 4.0 \\left(v^{234}\\right)^{2} + 4.0 \\left(v^{2345}\\right)^{2} - 4.0 \\left(v^{235}\\right)^{2} - 4.0 \\left(v^{24}\\right)^{2} - 4.0 \\left(v^{245}\\right)^{2} - 4.0 \\left(v^{25}\\right)^{2} + 4.0 \\left(v^{3}\\right)^{2} - 4.0 \\left(v^{34}\\right)^{2} - 4.0 \\left(v^{345}\\right)^{2} - 4.0 \\left(v^{35}\\right)^{2} + 4.0 \\left(v^{4}\\right)^{2} - 4.0 \\left(v^{45}\\right)^{2} + 4.0 \\left(v^{5}\\right)^{2},\\right)$",
            "text/plain": [
              "⎛        2         2          2           2            2             2        \n",
              "⎝- 28.0⋅v  + 4.0⋅v¹  - 4.0⋅v¹²  - 4.0⋅v¹²³  + 4.0⋅v¹²³⁴  + 4.0⋅v¹²³⁴⁵  + 4.0⋅v\n",
              "\n",
              "    2           2            2           2          2           2            2\n",
              "¹²³⁵  - 4.0⋅v¹²⁴  + 4.0⋅v¹²⁴⁵  - 4.0⋅v¹²⁵  - 4.0⋅v¹³  - 4.0⋅v¹³⁴  + 4.0⋅v¹³⁴⁵ \n",
              "\n",
              "           2          2           2          2         2          2           \n",
              " - 4.0⋅v¹³⁵  - 4.0⋅v¹⁴  - 4.0⋅v¹⁴⁵  - 4.0⋅v¹⁵  + 4.0⋅v²  - 4.0⋅v²³  - 4.0⋅v²³⁴\n",
              "\n",
              "2            2           2          2           2          2         2        \n",
              "  + 4.0⋅v²³⁴⁵  - 4.0⋅v²³⁵  - 4.0⋅v²⁴  - 4.0⋅v²⁴⁵  - 4.0⋅v²⁵  + 4.0⋅v³  - 4.0⋅v\n",
              "\n",
              "  2           2          2         2          2         2 ⎞\n",
              "³⁴  - 4.0⋅v³⁴⁵  - 4.0⋅v³⁵  + 4.0⋅v⁴  - 4.0⋅v⁴⁵  + 4.0⋅v⁵ ,⎠"
            ]
          },
          "metadata": {},
          "execution_count": 18
        }
      ]
    }
  ],
  "metadata": {
    "colab": {
      "collapsed_sections": [
        "eNLxNO50o4dk",
        "f7-bPrIDpGZ6"
      ],
      "name": "Example | coefficients_recursive.ipynb",
      "provenance": []
    },
    "kernelspec": {
      "display_name": "Python 3",
      "language": "python",
      "name": "python3"
    },
    "language_info": {
      "codemirror_mode": {
        "name": "ipython",
        "version": 3
      },
      "file_extension": ".py",
      "mimetype": "text/x-python",
      "name": "python",
      "nbconvert_exporter": "python",
      "pygments_lexer": "ipython3",
      "version": "3.9.5"
    }
  },
  "nbformat": 4,
  "nbformat_minor": 0
}