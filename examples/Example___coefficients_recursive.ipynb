{
  "cells": [
    {
      "cell_type": "markdown",
      "metadata": {
        "id": "BgD7IaenqG4B"
      },
      "source": [
        "# Example for `coefficients_recursive.py`"
      ]
    },
    {
      "cell_type": "markdown",
      "source": [
        "We  implemented *recursive* formulas for the characteristic polynomial coefficients from paper [**\"On computing the determinant, other characteristic polynomial coefficients, and inverse in Clifford algebras of arbitrary dimension\"**](https://arxiv.org/abs/2005.04015) (*Theorem 4*)  in `coefficients_recursive.py`. The implementation is valid for `clifford` (symbolic) and `galgebra` (numeric) python packages."
      ],
      "metadata": {
        "id": "7uAxfQrMfL3O"
      }
    },
    {
      "cell_type": "code",
      "execution_count": 1,
      "metadata": {
        "cellView": "form",
        "id": "v1-Xts03y-no",
        "outputId": "2a1e21b5-4938-4b5b-ca99-f2da9deb2b58",
        "colab": {
          "base_uri": "https://localhost:8080/"
        }
      },
      "outputs": [
        {
          "output_type": "stream",
          "name": "stdout",
          "text": [
            "Collecting clifford\n",
            "  Downloading clifford-1.4.0-py3-none-any.whl (159 kB)\n",
            "\u001b[K     |████████████████████████████████| 159 kB 5.3 MB/s \n",
            "\u001b[?25hCollecting sparse\n",
            "  Downloading sparse-0.13.0-py2.py3-none-any.whl (77 kB)\n",
            "\u001b[K     |████████████████████████████████| 77 kB 5.1 MB/s \n",
            "\u001b[?25hRequirement already satisfied: scipy in /usr/local/lib/python3.7/dist-packages (from clifford) (1.4.1)\n",
            "Requirement already satisfied: numba>0.46 in /usr/local/lib/python3.7/dist-packages (from clifford) (0.51.2)\n",
            "Requirement already satisfied: h5py in /usr/local/lib/python3.7/dist-packages (from clifford) (3.1.0)\n",
            "Requirement already satisfied: numpy>=1.17 in /usr/local/lib/python3.7/dist-packages (from clifford) (1.21.5)\n",
            "Requirement already satisfied: llvmlite<0.35,>=0.34.0.dev0 in /usr/local/lib/python3.7/dist-packages (from numba>0.46->clifford) (0.34.0)\n",
            "Requirement already satisfied: setuptools in /usr/local/lib/python3.7/dist-packages (from numba>0.46->clifford) (57.4.0)\n",
            "Requirement already satisfied: cached-property in /usr/local/lib/python3.7/dist-packages (from h5py->clifford) (1.5.2)\n",
            "Installing collected packages: sparse, clifford\n",
            "Successfully installed clifford-1.4.0 sparse-0.13.0\n",
            "Collecting galgebra\n",
            "  Downloading galgebra-0.5.0-py3-none-any.whl (95 kB)\n",
            "\u001b[K     |████████████████████████████████| 95 kB 2.3 MB/s \n",
            "\u001b[?25hRequirement already satisfied: sympy in /usr/local/lib/python3.7/dist-packages (from galgebra) (1.7.1)\n",
            "Requirement already satisfied: mpmath>=0.19 in /usr/local/lib/python3.7/dist-packages (from sympy->galgebra) (1.2.1)\n",
            "Installing collected packages: galgebra\n",
            "Successfully installed galgebra-0.5.0\n"
          ]
        }
      ],
      "source": [
        "#@title Install and import `clifford` and `galgebra` packages\n",
        "!pip install clifford\n",
        "!pip install galgebra\n",
        "import clifford as cl\n",
        "import sympy\n",
        "from galgebra.ga import Ga"
      ]
    },
    {
      "cell_type": "code",
      "execution_count": 3,
      "metadata": {
        "cellView": "form",
        "id": "5CHYUDKZrfff"
      },
      "outputs": [],
      "source": [
        "#@title Import latex printer for notebook\n",
        "from sympy import init_printing\n",
        "def custom_latex_printer(exp,**options):\n",
        "    from google.colab.output._publish import javascript\n",
        "    url = \"https://cdnjs.cloudflare.com/ajax/libs/mathjax/2.7.3/latest.js?config=default\"\n",
        "    javascript(url=url)\n",
        "    return sympy.printing.latex(exp,**options)\n",
        "init_printing(use_latex=\"mathjax\",latex_printer=custom_latex_printer)"
      ]
    },
    {
      "cell_type": "code",
      "execution_count": 2,
      "metadata": {
        "cellView": "form",
        "id": "ZlluRKWdfrq8",
        "outputId": "21de0712-e314-43ef-f9bc-9dc20097bfac",
        "colab": {
          "base_uri": "https://localhost:8080/"
        }
      },
      "outputs": [
        {
          "output_type": "stream",
          "name": "stdout",
          "text": [
            "--2022-03-12 13:53:32--  https://raw.githubusercontent.com/kamranuz/clifford_det/main/coefficients_recursive.py\n",
            "Resolving raw.githubusercontent.com (raw.githubusercontent.com)... 185.199.108.133, 185.199.109.133, 185.199.110.133, ...\n",
            "Connecting to raw.githubusercontent.com (raw.githubusercontent.com)|185.199.108.133|:443... connected.\n",
            "HTTP request sent, awaiting response... 200 OK\n",
            "Length: 974 [text/plain]\n",
            "Saving to: ‘coefficients_recursive.py’\n",
            "\n",
            "\r          coefficie   0%[                    ]       0  --.-KB/s               \rcoefficients_recurs 100%[===================>]     974  --.-KB/s    in 0s      \n",
            "\n",
            "2022-03-12 13:53:32 (52.3 MB/s) - ‘coefficients_recursive.py’ saved [974/974]\n",
            "\n"
          ]
        }
      ],
      "source": [
        "#@title Import recursive formulas for the characteristic polynomial coefficients\n",
        "!wget https://raw.githubusercontent.com/kamranuz/clifford_det/main/coefficients_recursive.py\n",
        "\n",
        "import coefficients_recursive as recur"
      ]
    },
    {
      "cell_type": "markdown",
      "metadata": {
        "id": "eNLxNO50o4dk"
      },
      "source": [
        "## `clifford`: numerical Geometric Algebra package for python"
      ]
    },
    {
      "cell_type": "code",
      "execution_count": 4,
      "metadata": {
        "cellView": "form",
        "colab": {
          "base_uri": "https://localhost:8080/"
        },
        "id": "5Rs7T_sFP5Lq",
        "outputId": "c694807f-52bb-4c11-b568-24698d866c48"
      },
      "outputs": [
        {
          "output_type": "stream",
          "name": "stdout",
          "text": [
            "U = -2 - (1^e1) - (1^e2) - (3^e3) - (3^e4) - (4^e5) - (5^e12) - (3^e13) - (1^e14) + (4^e15) + (4^e23) - (2^e24) - (4^e25) - (4^e34) - (1^e35) - (5^e45) - (4^e123) + (2^e124) + (1^e125) + (1^e134) - (1^e145) + (1^e234) - (4^e235) - (4^e345) - (5^e1234) - (4^e1235) - (2^e1245) - (5^e2345) - (4^e12345)\n",
            "CPU times: user 4.43 ms, sys: 279 µs, total: 4.71 ms\n",
            "Wall time: 8.54 ms\n"
          ]
        }
      ],
      "source": [
        "%%time\n",
        "\n",
        "#@title Create $U\\in Cl_{5,0}$ with random integer coefficients\n",
        "l, b = cl.Cl(5,0)\n",
        "locals().update(b)\n",
        "\n",
        "# create random MV with integer coefficients\n",
        "import random\n",
        "u = sum(random.randint(-5,5)*b[i] for i in b)\n",
        "\n",
        "# Or one can create random MV with rational coefficients, but for the rational coefficients the calculation error is too high\n",
        "# u = l.randomMV(min=-5, max=5)\n",
        "\n",
        "# print random MV\n",
        "print('U =',u)"
      ]
    },
    {
      "cell_type": "markdown",
      "metadata": {
        "id": "Gdt5m_NihX1a"
      },
      "source": [
        "Using ***recursive*** formulas for the characteristic polynomial coefficients $C_{(i)}$ in the case $n=5$  from `coefficients_recur.py`, we compute the coefficients $C_{(i)}$ and auxiliary terms $U_{(i)}$, $\\quad i=1,2,\\ldots,8$:"
      ]
    },
    {
      "cell_type": "code",
      "execution_count": 5,
      "metadata": {
        "colab": {
          "base_uri": "https://localhost:8080/"
        },
        "id": "nZ9ivUM-P5Ls",
        "outputId": "48b454ae-008a-45f1-e4fd-196d336bb960"
      },
      "outputs": [
        {
          "output_type": "stream",
          "name": "stderr",
          "text": [
            "/usr/local/lib/python3.7/dist-packages/numba/np/ufunc/parallel.py:363: NumbaWarning: The TBB threading layer requires TBB version 2019.5 or later i.e., TBB_INTERFACE_VERSION >= 11005. Found TBB_INTERFACE_VERSION = 9107. The TBB threading layer is disabled.\n",
            "  warnings.warn(problem)\n"
          ]
        },
        {
          "output_type": "stream",
          "name": "stdout",
          "text": [
            "CPU times: user 2.82 s, sys: 140 ms, total: 2.96 s\n",
            "Wall time: 4.24 s\n"
          ]
        }
      ],
      "source": [
        "%%time\n",
        "\n",
        "# get the generator of the characteristic polynomial coefficients and the corresponding auxiliary elements for n=5, element u\n",
        "# using recursive algorithm\n",
        "coefficients_recur = recur.get_coefficients(u)\n",
        "auxiliary_recur = recur.get_auxiliary(u)\n",
        "\n",
        "# cast coefficients generator to list of coefficients\n",
        "coefficients_recur = list(coefficients_recur)\n",
        "auxiliary_recur = list(auxiliary_recur)"
      ]
    },
    {
      "cell_type": "markdown",
      "metadata": {
        "id": "rCGP1ewVnAkk"
      },
      "source": [
        "Compare the results of ***explicit*** and ***recursive*** formulas in the case $n=5$"
      ]
    },
    {
      "cell_type": "code",
      "execution_count": 6,
      "metadata": {
        "colab": {
          "base_uri": "https://localhost:8080/"
        },
        "id": "I5AR6mICWEfz",
        "outputId": "6b9ff5c9-4cdd-4917-fffd-879f619f7023"
      },
      "outputs": [
        {
          "output_type": "stream",
          "name": "stdout",
          "text": [
            "Characteristic polynomial coefficients:  [-16.0, -364.0, -9520.0, -119182.0, -1084464.0, -29322716.0, -10753040.0, -2192269497.0]\n"
          ]
        }
      ],
      "source": [
        "print('Characteristic polynomial coefficients: ', coefficients_recur)"
      ]
    },
    {
      "cell_type": "markdown",
      "metadata": {
        "id": "QyhyenR4hJef"
      },
      "source": [
        "Compute the inverse of the element $U$"
      ]
    },
    {
      "cell_type": "code",
      "execution_count": 7,
      "metadata": {
        "colab": {
          "base_uri": "https://localhost:8080/"
        },
        "id": "ty9YwG21P5Lv",
        "outputId": "723ca71f-feca-44c6-f7e8-fdc5a6469f22"
      },
      "outputs": [
        {
          "output_type": "stream",
          "name": "stdout",
          "text": [
            "CPU times: user 166 µs, sys: 17 µs, total: 183 µs\n",
            "Wall time: 192 µs\n"
          ]
        }
      ],
      "source": [
        "%%time\n",
        "adj_u = auxiliary_recur[6]-coefficients_recur[6]\n",
        "det_u = coefficients_recur[7]\n",
        "inv_u = adj_u/det_u"
      ]
    },
    {
      "cell_type": "markdown",
      "metadata": {
        "id": "jDWXxCsqhE26"
      },
      "source": [
        "Check computed inverse of the element $U$  ($U \\cdot U^{-1}$  should be equal to $1$):"
      ]
    },
    {
      "cell_type": "code",
      "execution_count": 10,
      "metadata": {
        "colab": {
          "base_uri": "https://localhost:8080/",
          "height": 35
        },
        "id": "tXCFBnpqWcKS",
        "outputId": "5163b155-8980-4c37-add2-2ce9161660f3"
      },
      "outputs": [
        {
          "output_type": "execute_result",
          "data": {
            "text/plain": [
              "'U * U_inv = 1.0'"
            ],
            "application/vnd.google.colaboratory.intrinsic+json": {
              "type": "string"
            }
          },
          "metadata": {},
          "execution_count": 10
        }
      ],
      "source": [
        "f'U * U_inv = {u * inv_u}'"
      ]
    },
    {
      "cell_type": "markdown",
      "metadata": {
        "id": "f7-bPrIDpGZ6"
      },
      "source": [
        "## `GAlgebra`: Symbolic Geometric Algebra/Calculus package for SymPy"
      ]
    },
    {
      "cell_type": "code",
      "execution_count": 11,
      "metadata": {
        "id": "Xy5VVGzhqRpz",
        "cellView": "form"
      },
      "outputs": [],
      "source": [
        "#@title Create $V\\in Cl_{5,0}$ \n",
        "\n",
        "e12345 = sympy.symbols('1 2 3 4 5', real=True)\n",
        "eta=[1, 1, 1, 1, 1]\n",
        "o3d = Ga('e1 e2 e3 e4 e5', g=eta, coords=e12345)\n",
        "grad = o3d.grad\n",
        "v = o3d.mv('v', 'mv')"
      ]
    },
    {
      "cell_type": "markdown",
      "source": [
        "Using ***explicit*** formulas for the characteristic polynomial coefficients in the case $n=5$ from `coefficients_explicit_n5.py`, we compute the coefficients $C_{(1)}$ and $C_{(2)}$"
      ],
      "metadata": {
        "id": "U-jD43Rsi9qT"
      }
    },
    {
      "cell_type": "code",
      "execution_count": 12,
      "metadata": {
        "id": "lXOqkpXzs-Qp",
        "colab": {
          "base_uri": "https://localhost:8080/"
        },
        "outputId": "0bc77089-7b86-4093-f686-9be9991b8efd"
      },
      "outputs": [
        {
          "output_type": "stream",
          "name": "stdout",
          "text": [
            "CPU times: user 6 µs, sys: 1 µs, total: 7 µs\n",
            "Wall time: 11.2 µs\n"
          ]
        }
      ],
      "source": [
        "%%time\n",
        "\n",
        "# get the generator of characteristic polynomial coefficients for n=5, element u\n",
        "# using explisit formulas\n",
        "coefs_generator = recur.get_coefficients(v)"
      ]
    },
    {
      "cell_type": "code",
      "execution_count": 13,
      "metadata": {
        "colab": {
          "base_uri": "https://localhost:8080/"
        },
        "id": "QHZIUJxbsbP3",
        "outputId": "d6bd3491-f533-4a6f-ee31-648e8baf55ad"
      },
      "outputs": [
        {
          "output_type": "stream",
          "name": "stdout",
          "text": [
            "CPU times: user 1.02 ms, sys: 1 µs, total: 1.03 ms\n",
            "Wall time: 1.04 ms\n"
          ]
        }
      ],
      "source": [
        "%%time\n",
        "c1 = next(coefs_generator)"
      ]
    },
    {
      "cell_type": "code",
      "execution_count": null,
      "metadata": {
        "id": "1RHYi6DXuxul"
      },
      "outputs": [],
      "source": [
        "%%time\n",
        "c2 = next(coefs_generator)"
      ]
    },
    {
      "cell_type": "code",
      "source": [
        "print('C_1:')\n",
        "c1,"
      ],
      "metadata": {
        "colab": {
          "base_uri": "https://localhost:8080/",
          "height": 56
        },
        "id": "TCrJzDgkhvBV",
        "outputId": "6d604cc6-01d7-48f6-f1d7-b5265f333f19"
      },
      "execution_count": 14,
      "outputs": [
        {
          "output_type": "stream",
          "name": "stdout",
          "text": [
            "C_1:\n"
          ]
        },
        {
          "output_type": "display_data",
          "data": {
            "text/plain": [
              "<IPython.core.display.HTML object>"
            ],
            "text/html": [
              "<script src='https://cdnjs.cloudflare.com/ajax/libs/mathjax/2.7.3/latest.js?config=default'></script>"
            ]
          },
          "metadata": {}
        },
        {
          "output_type": "execute_result",
          "data": {
            "text/plain": [
              "(8.0⋅v,)"
            ],
            "text/latex": "$\\displaystyle \\left( 8.0 v,\\right)$"
          },
          "metadata": {},
          "execution_count": 14
        }
      ]
    },
    {
      "cell_type": "code",
      "source": [
        "print('C_2:')\n",
        "c2,"
      ],
      "metadata": {
        "id": "Brpc0vqHhr9W"
      },
      "execution_count": null,
      "outputs": []
    }
  ],
  "metadata": {
    "colab": {
      "collapsed_sections": [
        "eNLxNO50o4dk",
        "f7-bPrIDpGZ6"
      ],
      "name": "Example | coefficients_recursive.ipynb",
      "provenance": []
    },
    "kernelspec": {
      "display_name": "Python 3",
      "language": "python",
      "name": "python3"
    },
    "language_info": {
      "codemirror_mode": {
        "name": "ipython",
        "version": 3
      },
      "file_extension": ".py",
      "mimetype": "text/x-python",
      "name": "python",
      "nbconvert_exporter": "python",
      "pygments_lexer": "ipython3",
      "version": "3.9.5"
    }
  },
  "nbformat": 4,
  "nbformat_minor": 0
}