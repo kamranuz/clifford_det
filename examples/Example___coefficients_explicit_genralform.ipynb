{
  "cells": [
    {
      "cell_type": "markdown",
      "metadata": {
        "id": "BgD7IaenqG4B"
      },
      "source": [
        "# Example for `coefficients_explicit_genralform.py`"
      ]
    },
    {
      "cell_type": "markdown",
      "source": [
        "We implemented our method to obtain a general form of the basis-free formulas for all characteristic polynomial coefficients in the cases $n=1,2,\\ldots, 6$  from paper **\"Basis-free Formulas for Characteristic Polynomial Coefficients in Geometric Algebras\"** (*Sections 7 and 8*)  in `coefficients_explicit_genralform.py`. Using the method, we implemented generation of numeric and latex versiona of the formulas. The implementation is valid for `clifford` (numeric) python package. \n",
        "\n",
        "We implement class `CoefsGeneralFormNumeric` for numeric calcultions of the formulas and class `CoefsGeneralFormLatex` for generartion of latex version of the formulas."
      ],
      "metadata": {
        "id": "7uAxfQrMfL3O"
      }
    },
    {
      "cell_type": "code",
      "execution_count": null,
      "metadata": {
        "cellView": "form",
        "id": "v1-Xts03y-no"
      },
      "outputs": [],
      "source": [
        "#@title Install and import `clifford` package\n",
        "!pip install clifford\n",
        "import clifford as cl\n",
        "\n",
        "# Code to display latex in Jupiter Notebook\n",
        "from IPython.display import HTML, Math\n",
        "display(HTML(\"<script src='https://cdnjs.cloudflare.com/ajax/libs/mathjax/2.7.3/\"\n",
        "             \"latest.js?config=default'></script>\"))"
      ]
    },
    {
      "cell_type": "code",
      "execution_count": null,
      "metadata": {
        "id": "ZlluRKWdfrq8",
        "cellView": "form"
      },
      "outputs": [],
      "source": [
        "#@title Import our method for the characteristic polynomial coefficients in the cases $n\\leq 6$\n",
        "!wget https://raw.githubusercontent.com/kamranuz/clifford_det/main/coefficients_explicit_genralform.py\n",
        "\n",
        "import coefficients_explicit_genralform as gform"
      ]
    },
    {
      "cell_type": "markdown",
      "metadata": {
        "id": "eNLxNO50o4dk"
      },
      "source": [
        "## `CoefsGeneralFormNumeric`, using `clifford`: numerical Geometric Algebra package for python"
      ]
    },
    {
      "cell_type": "code",
      "execution_count": 25,
      "metadata": {
        "cellView": "form",
        "colab": {
          "base_uri": "https://localhost:8080/",
          "height": 236
        },
        "id": "5Rs7T_sFP5Lq",
        "outputId": "a517f1f2-43b7-4b6e-ce02-d9983b9572bc"
      },
      "outputs": [
        {
          "output_type": "display_data",
          "data": {
            "text/plain": [
              "<IPython.core.display.Math object>"
            ],
            "text/latex": "$$U =-5e_{1} + 1e_{2} - 2e_{12}\\in Cl_{2,0}$$"
          },
          "metadata": {}
        },
        {
          "output_type": "stream",
          "name": "stdout",
          "text": [
            "\n"
          ]
        },
        {
          "output_type": "display_data",
          "data": {
            "text/plain": [
              "<IPython.core.display.Math object>"
            ],
            "text/latex": "$$V =-3 - 4e_{1} - 1e_{2} + 3e_{3} + 2e_{4} - 4e_{12} + 4e_{13} + 3e_{14} + 1e_{15} - 2e_{24} - 4e_{25} + 4e_{34} + 3e_{35} + 1e_{45} - 4e_{123} - 1e_{124} + 4e_{125} + 1e_{134} + 5e_{135} + 3e_{234} - 2e_{235} + 3e_{245} + 3e_{345} + 2e_{1235} - 2e_{1345} + 2e_{2345} - 1e_{12345}\\in Cl_{5,0}$$"
          },
          "metadata": {}
        },
        {
          "output_type": "stream",
          "name": "stdout",
          "text": [
            "\n"
          ]
        },
        {
          "output_type": "display_data",
          "data": {
            "text/plain": [
              "<IPython.core.display.Math object>"
            ],
            "text/latex": "$$W =-4 - 5e_{2} - 5e_{3} - 2e_{4} + 3e_{5} - 5e_{6} - 2e_{12} - 5e_{13} + 2e_{14} - 3e_{15} + 5e_{16} + 1e_{23} - 4e_{24} - 3e_{25} - 2e_{26} + 5e_{34} - 2e_{35} + 3e_{36} + 1e_{46} + 4e_{56} - 4e_{123} - 2e_{124} - 1e_{134} + 5e_{135} + 5e_{136} + 4e_{145} - 3e_{146} + 1e_{156} + 5e_{234} - 2e_{235} + 1e_{236} + 2e_{245} + 5e_{246} + 5e_{256} + 2e_{345} + 3e_{346} - 3e_{356} - 5e_{456} + 2e_{1234} + 3e_{1235} + 3e_{1236} + 2e_{1245} + 2e_{1246} + 4e_{1256} + 2e_{1345} + 1e_{1346} + 2e_{1356} - 1e_{1456} - 4e_{2345} + 1e_{2346} - 1e_{2356} + 4e_{2456} + 5e_{3456} + 3e_{12346} + 1e_{12356} + 4e_{12456} + 3e_{13456} - 3e_{23456} - 2e_{123456}\\in Cl_{6,0}$$"
          },
          "metadata": {}
        },
        {
          "output_type": "stream",
          "name": "stdout",
          "text": [
            "CPU times: user 15.4 ms, sys: 4.46 ms, total: 19.9 ms\n",
            "Wall time: 33.2 ms\n"
          ]
        }
      ],
      "source": [
        "%%time\n",
        "\n",
        "#@title Create $U\\in Cl_{2,0},V\\in Cl_{5,0},W\\in Cl_{6,0}$ with random integer coefficients\n",
        "l, b_n3 = cl.Cl(2,0)\n",
        "l, b_n5 = cl.Cl(5,0)\n",
        "l, b_n6 = cl.Cl(6,0)\n",
        "\n",
        "# create random MV with integer coefficients\n",
        "import random\n",
        "u = sum(random.randint(-5,5)*b_n3[i] for i in b_n3)\n",
        "v = sum(random.randint(-5,5)*b_n5[i] for i in b_n5)\n",
        "w = sum(random.randint(-5,5)*b_n6[i] for i in b_n6)\n",
        "\n",
        "# Or one can create random MV with rational coefficients, but for the rational coefficients the calculation error is too high\n",
        "# u = l.randomMV(min=-5, max=5)\n",
        "\n",
        "# print random MV\n",
        "display(Math('U =' + str(u).replace('^','')\n",
        "                           .replace('e','e_{')\n",
        "                           .replace('(','')\n",
        "                           .replace(')','}')\n",
        "                   + '\\in Cl_{2,0}'))\n",
        "print()\n",
        "display(Math('V =' + str(v).replace('^','')\n",
        "                           .replace('e','e_{')\n",
        "                           .replace('(','')\n",
        "                           .replace(')','}')\n",
        "                   + '\\in Cl_{5,0}'))\n",
        "print()\n",
        "display(Math('W =' + str(w).replace('^','')\n",
        "                           .replace('e','e_{')\n",
        "                           .replace('(','')\n",
        "                           .replace(')','}')\n",
        "                   + '\\in Cl_{6,0}'))"
      ]
    },
    {
      "cell_type": "markdown",
      "metadata": {
        "id": "Gdt5m_NihX1a"
      },
      "source": [
        "Using ***general form*** of the basis-free formulas for the characteristic polynomial coefficients $C_{(i)}$ in the cases $n=2, 5,$ and $6$  from `coefficients_explicit_genralform.py`, we compute the coefficients $C_{(i)},$ $\\quad i=1,2,\\ldots,8$:"
      ]
    },
    {
      "cell_type": "code",
      "execution_count": 26,
      "metadata": {
        "colab": {
          "base_uri": "https://localhost:8080/"
        },
        "id": "nZ9ivUM-P5Ls",
        "outputId": "7f23c9ba-c9a3-4ad9-bffb-8722c1c0c214"
      },
      "outputs": [
        {
          "output_type": "stream",
          "name": "stdout",
          "text": [
            "CPU times: user 1.21 s, sys: 0 ns, total: 1.21 s\n",
            "Wall time: 1.18 s\n"
          ]
        }
      ],
      "source": [
        "%%time\n",
        "\n",
        "# get all characteristic polynomial coefficients for element U (n=2) and V (n=5)\n",
        "# using our method to obtain expliicit general form \n",
        "coefficients_u_gform = gform.CoefsGeneralFormNumeric(u,n=2).eval_coefs()\n",
        "coefficients_v_gform = gform.CoefsGeneralFormNumeric(v,n=5).eval_coefs()"
      ]
    },
    {
      "cell_type": "code",
      "source": [
        "%%time\n",
        "\n",
        "# get all characteristic polynomial coefficients elements for element W (n=6)\n",
        "# using our method to obtain expliicit general form \n",
        "# ! For n=6 the code is different\n",
        "w_gform_1 = gform.CoefsGeneralFormNumeric(w,n=6).eval_coefs()\n",
        "w_gform_2 = gform.CoefsGeneralFormNumeric(w,n=7).eval_coefs()\n",
        "coefficients_w_gform = [(1*i1+2*i2)/3 for i1,i2 in zip(w_gform_1,w_gform_2)]"
      ],
      "metadata": {
        "id": "riYfN2Qr64Wd"
      },
      "execution_count": null,
      "outputs": []
    },
    {
      "cell_type": "code",
      "execution_count": null,
      "metadata": {
        "colab": {
          "base_uri": "https://localhost:8080/",
          "height": 81
        },
        "id": "I5AR6mICWEfz",
        "outputId": "09e8c9f5-34af-49ea-9850-e2eb6dc40581",
        "cellView": "form"
      },
      "outputs": [
        {
          "output_type": "display_data",
          "data": {
            "text/latex": "$$U\\in Cl_{2,0}: C_{(1)},C_{(2)}=[-10, -45]$$",
            "text/plain": [
              "<IPython.core.display.Math object>"
            ]
          },
          "metadata": {}
        },
        {
          "output_type": "display_data",
          "data": {
            "text/latex": "$$V\\in Cl_{5,0}: C_{(1)},C_{(2)},\\ldots,C_{(8)}=[-16, -752, -6512, -118888, -499008, -7878976, -10551744, -161221008]$$",
            "text/plain": [
              "<IPython.core.display.Math object>"
            ]
          },
          "metadata": {}
        },
        {
          "output_type": "display_data",
          "data": {
            "text/latex": "$$W\\in Cl_{6,0}: C_{(1)},C_{(2)},\\ldots,C_{(8)}=[16.0, -608.0, 18992.0, 147808.0, -1221696.0, -59314624.0, -386711808.0, -2021936832.0]$$",
            "text/plain": [
              "<IPython.core.display.Math object>"
            ]
          },
          "metadata": {}
        }
      ],
      "source": [
        "#@title Display calculated characteristic polynomial coefficients for  $U\\in Cl_{2,0},V\\in Cl_{5,0},W\\in Cl_{6,0}$:\n",
        "\n",
        "display(Math('U\\in Cl_{2,0}: C_{(1)},C_{(2)}=' f'{coefficients_u_gform}'))\n",
        "display(Math('V\\in Cl_{5,0}: C_{(1)},C_{(2)},\\ldots,C_{(8)}='  f'{coefficients_v_gform}'))\n",
        "display(Math('W\\in Cl_{6,0}: C_{(1)},C_{(2)},\\ldots,C_{(8)}='  f'{coefficients_w_gform}'))"
      ]
    },
    {
      "cell_type": "markdown",
      "metadata": {
        "id": "f7-bPrIDpGZ6"
      },
      "source": [
        "## `CoefsGeneralFormLatex`\n"
      ]
    },
    {
      "cell_type": "markdown",
      "source": [
        "Using ***general form*** of the basis-free formulas for the characteristic polynomial coefficients $C_{(i)}$ in the cases $n=2, 5,$ and $6$  from `coefficients_explicit_genralform.py`, we generate latex vesrion of the coefficients $C_{(i)},$ $\\quad i=1,2,\\ldots,8$:"
      ],
      "metadata": {
        "id": "U-jD43Rsi9qT"
      }
    },
    {
      "cell_type": "code",
      "execution_count": 8,
      "metadata": {
        "id": "lXOqkpXzs-Qp"
      },
      "outputs": [],
      "source": [
        "\n",
        "# get all characteristic polynomial coefficients elements for n=6 of element U\n",
        "# using our method to obtain expliicit general form \n",
        "coefs_n2_latex = gform.CoefsGeneralFormLatex(n=2).eval_coefs()\n",
        "coefs_n5_latex = gform.CoefsGeneralFormLatex(n=5).eval_coefs()"
      ]
    },
    {
      "cell_type": "code",
      "source": [
        "\n",
        "# get all characteristic polynomial coefficients elements for element W (n=6)\n",
        "# using our method to obtain expliicit general form \n",
        "# ! For n=6 the code is different\n",
        "n6_gform_latex_1 = gform.CoefsGeneralFormLatex(n=6).eval_coefs()\n",
        "n6_gform_latex_2 = gform.CoefsGeneralFormLatex(n=7).eval_coefs()\n",
        "n6_gform_latex = ['\\\\frac{1}{3}\\\\cdot'+i1+'+\\\\frac{2}{3}\\\\cdot'+i2 for i1, i2 in zip(n6_gform_latex_1,n6_gform_latex_2)]"
      ],
      "metadata": {
        "id": "aButcUo2KCsE"
      },
      "execution_count": 40,
      "outputs": []
    },
    {
      "cell_type": "markdown",
      "source": [
        "Display latex version of the basis-free formulas"
      ],
      "metadata": {
        "id": "HcpvICZJVTFU"
      }
    },
    {
      "cell_type": "code",
      "source": [
        "for i,c_i in enumerate(coefs_n2_latex):\n",
        "    display(Math('C_{'f'({i+1})''}='+c_i+', n=2'))"
      ],
      "metadata": {
        "colab": {
          "base_uri": "https://localhost:8080/",
          "height": 70
        },
        "id": "CIE2u1PmT4uo",
        "outputId": "27145d9a-ed4a-4077-a374-613e7394aaa6"
      },
      "execution_count": 46,
      "outputs": [
        {
          "output_type": "display_data",
          "data": {
            "text/plain": [
              "<IPython.core.display.Math object>"
            ],
            "text/latex": "$$C_{(1)}=-(\\widehat{\\widetilde{U}}+U), n=2$$"
          },
          "metadata": {}
        },
        {
          "output_type": "display_data",
          "data": {
            "text/plain": [
              "<IPython.core.display.Math object>"
            ],
            "text/latex": "$$C_{(2)}=U\\widehat{\\widetilde{U}}, n=2$$"
          },
          "metadata": {}
        }
      ]
    },
    {
      "cell_type": "code",
      "source": [
        "for i,c_i in enumerate(coefs_n5_latex):\n",
        "    display(Math('C_{'f'({i+1})''}='+c_i+', n=5'))\n",
        "    print()"
      ],
      "metadata": {
        "colab": {
          "base_uri": "https://localhost:8080/",
          "height": 965
        },
        "id": "AALzpqpR7kzm",
        "outputId": "c9018466-fd6e-469f-f6ac-7218fc285387"
      },
      "execution_count": 49,
      "outputs": [
        {
          "output_type": "display_data",
          "data": {
            "text/plain": [
              "<IPython.core.display.Math object>"
            ],
            "text/latex": "$$C_{(1)}=-(\\widehat{\\widetilde{U}}^{\\bigtriangleup}+U^{\\bigtriangleup}+\\widetilde{U}^{\\bigtriangleup}+\\widehat{U}^{\\bigtriangleup}+\\widetilde{U}+\\widehat{U}+\\widehat{\\widetilde{U}}+U), n=5$$"
          },
          "metadata": {}
        },
        {
          "output_type": "stream",
          "name": "stdout",
          "text": [
            "\n"
          ]
        },
        {
          "output_type": "display_data",
          "data": {
            "text/plain": [
              "<IPython.core.display.Math object>"
            ],
            "text/latex": "$$C_{(2)}=(U\\widehat{\\widetilde{U}})^{\\bigtriangleup}+(\\widetilde{U}\\widehat{\\widetilde{U}})^{\\bigtriangleup}+(\\widetilde{U}U)^{\\bigtriangleup}+(\\widehat{U}\\widehat{\\widetilde{U}})^{\\bigtriangleup}+(\\widehat{U}U)^{\\bigtriangleup}+(\\widehat{U}\\widetilde{U})^{\\bigtriangleup}+\\widetilde{U}\\widehat{\\widetilde{U}}^{\\bigtriangleup}+\\widetilde{U}U^{\\bigtriangleup}+\\widetilde{U}\\widetilde{U}^{\\bigtriangleup}+\\widetilde{U}\\widehat{U}^{\\bigtriangleup}+\\widehat{U}\\widehat{\\widetilde{U}}^{\\bigtriangleup}+\\widehat{U}U^{\\bigtriangleup}+\\widehat{U}\\widetilde{U}^{\\bigtriangleup}+\\widehat{U}\\widehat{U}^{\\bigtriangleup}+\\widehat{U}\\widetilde{U}+\\widehat{\\widetilde{U}}\\widehat{\\widetilde{U}}^{\\bigtriangleup}+\\widehat{\\widetilde{U}}U^{\\bigtriangleup}+\\widehat{\\widetilde{U}}\\widetilde{U}^{\\bigtriangleup}+\\widehat{\\widetilde{U}}\\widehat{U}^{\\bigtriangleup}+\\widehat{\\widetilde{U}}\\widetilde{U}+\\widehat{\\widetilde{U}}\\widehat{U}+U\\widehat{\\widetilde{U}}^{\\bigtriangleup}+UU^{\\bigtriangleup}+U\\widetilde{U}^{\\bigtriangleup}+U\\widehat{U}^{\\bigtriangleup}+U\\widetilde{U}+U\\widehat{U}+U\\widehat{\\widetilde{U}}, n=5$$"
          },
          "metadata": {}
        },
        {
          "output_type": "stream",
          "name": "stdout",
          "text": [
            "\n"
          ]
        },
        {
          "output_type": "display_data",
          "data": {
            "text/plain": [
              "<IPython.core.display.Math object>"
            ],
            "text/latex": "$$C_{(3)}=-((\\widetilde{U}U\\widehat{\\widetilde{U}})^{\\bigtriangleup}+(\\widehat{U}U\\widehat{\\widetilde{U}})^{\\bigtriangleup}+(\\widehat{U}\\widetilde{U}\\widehat{\\widetilde{U}})^{\\bigtriangleup}+(\\widehat{U}\\widetilde{U}U)^{\\bigtriangleup}+\\widetilde{U}(U\\widehat{\\widetilde{U}})^{\\bigtriangleup}+\\widetilde{U}(\\widetilde{U}\\widehat{\\widetilde{U}})^{\\bigtriangleup}+\\widetilde{U}(\\widetilde{U}U)^{\\bigtriangleup}+\\widetilde{U}(\\widehat{U}\\widehat{\\widetilde{U}})^{\\bigtriangleup}+\\widetilde{U}(\\widehat{U}U)^{\\bigtriangleup}+\\widetilde{U}(\\widehat{U}\\widetilde{U})^{\\bigtriangleup}+\\widehat{U}(U\\widehat{\\widetilde{U}})^{\\bigtriangleup}+\\widehat{U}(\\widetilde{U}\\widehat{\\widetilde{U}})^{\\bigtriangleup}+\\widehat{U}(\\widetilde{U}U)^{\\bigtriangleup}+\\widehat{U}(\\widehat{U}\\widehat{\\widetilde{U}})^{\\bigtriangleup}+\\widehat{U}(\\widehat{U}U)^{\\bigtriangleup}+\\widehat{U}(\\widehat{U}\\widetilde{U})^{\\bigtriangleup}+\\widehat{U}\\widetilde{U}\\widehat{\\widetilde{U}}^{\\bigtriangleup}+\\widehat{U}\\widetilde{U}U^{\\bigtriangleup}+\\widehat{U}\\widetilde{U}\\widetilde{U}^{\\bigtriangleup}+\\widehat{U}\\widetilde{U}\\widehat{U}^{\\bigtriangleup}+\\widehat{\\widetilde{U}}(U\\widehat{\\widetilde{U}})^{\\bigtriangleup}+\\widehat{\\widetilde{U}}(\\widetilde{U}\\widehat{\\widetilde{U}})^{\\bigtriangleup}+\\widehat{\\widetilde{U}}(\\widetilde{U}U)^{\\bigtriangleup}+\\widehat{\\widetilde{U}}(\\widehat{U}\\widehat{\\widetilde{U}})^{\\bigtriangleup}+\\widehat{\\widetilde{U}}(\\widehat{U}U)^{\\bigtriangleup}+\\widehat{\\widetilde{U}}(\\widehat{U}\\widetilde{U})^{\\bigtriangleup}+\\widehat{\\widetilde{U}}\\widetilde{U}\\widehat{\\widetilde{U}}^{\\bigtriangleup}+\\widehat{\\widetilde{U}}\\widetilde{U}U^{\\bigtriangleup}+\\widehat{\\widetilde{U}}\\widetilde{U}\\widetilde{U}^{\\bigtriangleup}+\\widehat{\\widetilde{U}}\\widetilde{U}\\widehat{U}^{\\bigtriangleup}+\\widehat{\\widetilde{U}}\\widehat{U}\\widehat{\\widetilde{U}}^{\\bigtriangleup}+\\widehat{\\widetilde{U}}\\widehat{U}U^{\\bigtriangleup}+\\widehat{\\widetilde{U}}\\widehat{U}\\widetilde{U}^{\\bigtriangleup}+\\widehat{\\widetilde{U}}\\widehat{U}\\widehat{U}^{\\bigtriangleup}+\\widehat{\\widetilde{U}}\\widehat{U}\\widetilde{U}+U(U\\widehat{\\widetilde{U}})^{\\bigtriangleup}+U(\\widetilde{U}\\widehat{\\widetilde{U}})^{\\bigtriangleup}+U(\\widetilde{U}U)^{\\bigtriangleup}+U(\\widehat{U}\\widehat{\\widetilde{U}})^{\\bigtriangleup}+U(\\widehat{U}U)^{\\bigtriangleup}+U(\\widehat{U}\\widetilde{U})^{\\bigtriangleup}+U\\widetilde{U}\\widehat{\\widetilde{U}}^{\\bigtriangleup}+U\\widetilde{U}U^{\\bigtriangleup}+U\\widetilde{U}\\widetilde{U}^{\\bigtriangleup}+U\\widetilde{U}\\widehat{U}^{\\bigtriangleup}+U\\widehat{U}\\widehat{\\widetilde{U}}^{\\bigtriangleup}+U\\widehat{U}U^{\\bigtriangleup}+U\\widehat{U}\\widetilde{U}^{\\bigtriangleup}+U\\widehat{U}\\widehat{U}^{\\bigtriangleup}+U\\widehat{U}\\widetilde{U}+U\\widehat{\\widetilde{U}}\\widehat{\\widetilde{U}}^{\\bigtriangleup}+U\\widehat{\\widetilde{U}}U^{\\bigtriangleup}+U\\widehat{\\widetilde{U}}\\widetilde{U}^{\\bigtriangleup}+U\\widehat{\\widetilde{U}}\\widehat{U}^{\\bigtriangleup}+U\\widehat{\\widetilde{U}}\\widetilde{U}+U\\widehat{\\widetilde{U}}\\widehat{U}), n=5$$"
          },
          "metadata": {}
        },
        {
          "output_type": "stream",
          "name": "stdout",
          "text": [
            "\n"
          ]
        },
        {
          "output_type": "display_data",
          "data": {
            "text/plain": [
              "<IPython.core.display.Math object>"
            ],
            "text/latex": "$$C_{(4)}=(\\widehat{U}\\widetilde{U}U\\widehat{\\widetilde{U}})^{\\bigtriangleup}+\\widetilde{U}(\\widetilde{U}U\\widehat{\\widetilde{U}})^{\\bigtriangleup}+\\widetilde{U}(\\widehat{U}U\\widehat{\\widetilde{U}})^{\\bigtriangleup}+\\widetilde{U}(\\widehat{U}\\widetilde{U}\\widehat{\\widetilde{U}})^{\\bigtriangleup}+\\widetilde{U}(\\widehat{U}\\widetilde{U}U)^{\\bigtriangleup}+\\widehat{U}(\\widetilde{U}U\\widehat{\\widetilde{U}})^{\\bigtriangleup}+\\widehat{U}(\\widehat{U}U\\widehat{\\widetilde{U}})^{\\bigtriangleup}+\\widehat{U}(\\widehat{U}\\widetilde{U}\\widehat{\\widetilde{U}})^{\\bigtriangleup}+\\widehat{U}(\\widehat{U}\\widetilde{U}U)^{\\bigtriangleup}+\\widehat{U}\\widetilde{U}(U\\widehat{\\widetilde{U}})^{\\bigtriangleup}+\\widehat{U}\\widetilde{U}(\\widetilde{U}\\widehat{\\widetilde{U}})^{\\bigtriangleup}+\\widehat{U}\\widetilde{U}(\\widetilde{U}U)^{\\bigtriangleup}+\\widehat{U}\\widetilde{U}(\\widehat{U}\\widehat{\\widetilde{U}})^{\\bigtriangleup}+\\widehat{U}\\widetilde{U}(\\widehat{U}U)^{\\bigtriangleup}+\\widehat{U}\\widetilde{U}(\\widehat{U}\\widetilde{U})^{\\bigtriangleup}+\\widehat{\\widetilde{U}}(\\widetilde{U}U\\widehat{\\widetilde{U}})^{\\bigtriangleup}+\\widehat{\\widetilde{U}}(\\widehat{U}U\\widehat{\\widetilde{U}})^{\\bigtriangleup}+\\widehat{\\widetilde{U}}(\\widehat{U}\\widetilde{U}\\widehat{\\widetilde{U}})^{\\bigtriangleup}+\\widehat{\\widetilde{U}}(\\widehat{U}\\widetilde{U}U)^{\\bigtriangleup}+\\widehat{\\widetilde{U}}\\widetilde{U}(U\\widehat{\\widetilde{U}})^{\\bigtriangleup}+\\widehat{\\widetilde{U}}\\widetilde{U}(\\widetilde{U}\\widehat{\\widetilde{U}})^{\\bigtriangleup}+\\widehat{\\widetilde{U}}\\widetilde{U}(\\widetilde{U}U)^{\\bigtriangleup}+\\widehat{\\widetilde{U}}\\widetilde{U}(\\widehat{U}\\widehat{\\widetilde{U}})^{\\bigtriangleup}+\\widehat{\\widetilde{U}}\\widetilde{U}(\\widehat{U}U)^{\\bigtriangleup}+\\widehat{\\widetilde{U}}\\widetilde{U}(\\widehat{U}\\widetilde{U})^{\\bigtriangleup}+\\widehat{\\widetilde{U}}\\widehat{U}(U\\widehat{\\widetilde{U}})^{\\bigtriangleup}+\\widehat{\\widetilde{U}}\\widehat{U}(\\widetilde{U}\\widehat{\\widetilde{U}})^{\\bigtriangleup}+\\widehat{\\widetilde{U}}\\widehat{U}(\\widetilde{U}U)^{\\bigtriangleup}+\\widehat{\\widetilde{U}}\\widehat{U}(\\widehat{U}\\widehat{\\widetilde{U}})^{\\bigtriangleup}+\\widehat{\\widetilde{U}}\\widehat{U}(\\widehat{U}U)^{\\bigtriangleup}+\\widehat{\\widetilde{U}}\\widehat{U}(\\widehat{U}\\widetilde{U})^{\\bigtriangleup}+\\widehat{\\widetilde{U}}\\widehat{U}\\widetilde{U}\\widehat{\\widetilde{U}}^{\\bigtriangleup}+\\widehat{\\widetilde{U}}\\widehat{U}\\widetilde{U}U^{\\bigtriangleup}+\\widehat{\\widetilde{U}}\\widehat{U}\\widetilde{U}\\widetilde{U}^{\\bigtriangleup}+\\widehat{\\widetilde{U}}\\widehat{U}\\widetilde{U}\\widehat{U}^{\\bigtriangleup}+U(\\widetilde{U}U\\widehat{\\widetilde{U}})^{\\bigtriangleup}+U(\\widehat{U}U\\widehat{\\widetilde{U}})^{\\bigtriangleup}+U(\\widehat{U}\\widetilde{U}\\widehat{\\widetilde{U}})^{\\bigtriangleup}+U(\\widehat{U}\\widetilde{U}U)^{\\bigtriangleup}+U\\widetilde{U}(U\\widehat{\\widetilde{U}})^{\\bigtriangleup}+U\\widetilde{U}(\\widetilde{U}\\widehat{\\widetilde{U}})^{\\bigtriangleup}+U\\widetilde{U}(\\widetilde{U}U)^{\\bigtriangleup}+U\\widetilde{U}(\\widehat{U}\\widehat{\\widetilde{U}})^{\\bigtriangleup}+U\\widetilde{U}(\\widehat{U}U)^{\\bigtriangleup}+U\\widetilde{U}(\\widehat{U}\\widetilde{U})^{\\bigtriangleup}+U\\widehat{U}(U\\widehat{\\widetilde{U}})^{\\bigtriangleup}+U\\widehat{U}(\\widetilde{U}\\widehat{\\widetilde{U}})^{\\bigtriangleup}+U\\widehat{U}(\\widetilde{U}U)^{\\bigtriangleup}+U\\widehat{U}(\\widehat{U}\\widehat{\\widetilde{U}})^{\\bigtriangleup}+U\\widehat{U}(\\widehat{U}U)^{\\bigtriangleup}+U\\widehat{U}(\\widehat{U}\\widetilde{U})^{\\bigtriangleup}+U\\widehat{U}\\widetilde{U}\\widehat{\\widetilde{U}}^{\\bigtriangleup}+U\\widehat{U}\\widetilde{U}U^{\\bigtriangleup}+U\\widehat{U}\\widetilde{U}\\widetilde{U}^{\\bigtriangleup}+U\\widehat{U}\\widetilde{U}\\widehat{U}^{\\bigtriangleup}+U\\widehat{\\widetilde{U}}(U\\widehat{\\widetilde{U}})^{\\bigtriangleup}+U\\widehat{\\widetilde{U}}(\\widetilde{U}\\widehat{\\widetilde{U}})^{\\bigtriangleup}+U\\widehat{\\widetilde{U}}(\\widetilde{U}U)^{\\bigtriangleup}+U\\widehat{\\widetilde{U}}(\\widehat{U}\\widehat{\\widetilde{U}})^{\\bigtriangleup}+U\\widehat{\\widetilde{U}}(\\widehat{U}U)^{\\bigtriangleup}+U\\widehat{\\widetilde{U}}(\\widehat{U}\\widetilde{U})^{\\bigtriangleup}+U\\widehat{\\widetilde{U}}\\widetilde{U}\\widehat{\\widetilde{U}}^{\\bigtriangleup}+U\\widehat{\\widetilde{U}}\\widetilde{U}U^{\\bigtriangleup}+U\\widehat{\\widetilde{U}}\\widetilde{U}\\widetilde{U}^{\\bigtriangleup}+U\\widehat{\\widetilde{U}}\\widetilde{U}\\widehat{U}^{\\bigtriangleup}+U\\widehat{\\widetilde{U}}\\widehat{U}\\widehat{\\widetilde{U}}^{\\bigtriangleup}+U\\widehat{\\widetilde{U}}\\widehat{U}U^{\\bigtriangleup}+U\\widehat{\\widetilde{U}}\\widehat{U}\\widetilde{U}^{\\bigtriangleup}+U\\widehat{\\widetilde{U}}\\widehat{U}\\widehat{U}^{\\bigtriangleup}+U\\widehat{\\widetilde{U}}\\widehat{U}\\widetilde{U}, n=5$$"
          },
          "metadata": {}
        },
        {
          "output_type": "stream",
          "name": "stdout",
          "text": [
            "\n"
          ]
        },
        {
          "output_type": "display_data",
          "data": {
            "text/plain": [
              "<IPython.core.display.Math object>"
            ],
            "text/latex": "$$C_{(5)}=-(\\widetilde{U}(\\widehat{U}\\widetilde{U}U\\widehat{\\widetilde{U}})^{\\bigtriangleup}+\\widehat{U}(\\widehat{U}\\widetilde{U}U\\widehat{\\widetilde{U}})^{\\bigtriangleup}+\\widehat{U}\\widetilde{U}(\\widetilde{U}U\\widehat{\\widetilde{U}})^{\\bigtriangleup}+\\widehat{U}\\widetilde{U}(\\widehat{U}U\\widehat{\\widetilde{U}})^{\\bigtriangleup}+\\widehat{U}\\widetilde{U}(\\widehat{U}\\widetilde{U}\\widehat{\\widetilde{U}})^{\\bigtriangleup}+\\widehat{U}\\widetilde{U}(\\widehat{U}\\widetilde{U}U)^{\\bigtriangleup}+\\widehat{\\widetilde{U}}(\\widehat{U}\\widetilde{U}U\\widehat{\\widetilde{U}})^{\\bigtriangleup}+\\widehat{\\widetilde{U}}\\widetilde{U}(\\widetilde{U}U\\widehat{\\widetilde{U}})^{\\bigtriangleup}+\\widehat{\\widetilde{U}}\\widetilde{U}(\\widehat{U}U\\widehat{\\widetilde{U}})^{\\bigtriangleup}+\\widehat{\\widetilde{U}}\\widetilde{U}(\\widehat{U}\\widetilde{U}\\widehat{\\widetilde{U}})^{\\bigtriangleup}+\\widehat{\\widetilde{U}}\\widetilde{U}(\\widehat{U}\\widetilde{U}U)^{\\bigtriangleup}+\\widehat{\\widetilde{U}}\\widehat{U}(\\widetilde{U}U\\widehat{\\widetilde{U}})^{\\bigtriangleup}+\\widehat{\\widetilde{U}}\\widehat{U}(\\widehat{U}U\\widehat{\\widetilde{U}})^{\\bigtriangleup}+\\widehat{\\widetilde{U}}\\widehat{U}(\\widehat{U}\\widetilde{U}\\widehat{\\widetilde{U}})^{\\bigtriangleup}+\\widehat{\\widetilde{U}}\\widehat{U}(\\widehat{U}\\widetilde{U}U)^{\\bigtriangleup}+\\widehat{\\widetilde{U}}\\widehat{U}\\widetilde{U}(U\\widehat{\\widetilde{U}})^{\\bigtriangleup}+\\widehat{\\widetilde{U}}\\widehat{U}\\widetilde{U}(\\widetilde{U}\\widehat{\\widetilde{U}})^{\\bigtriangleup}+\\widehat{\\widetilde{U}}\\widehat{U}\\widetilde{U}(\\widetilde{U}U)^{\\bigtriangleup}+\\widehat{\\widetilde{U}}\\widehat{U}\\widetilde{U}(\\widehat{U}\\widehat{\\widetilde{U}})^{\\bigtriangleup}+\\widehat{\\widetilde{U}}\\widehat{U}\\widetilde{U}(\\widehat{U}U)^{\\bigtriangleup}+\\widehat{\\widetilde{U}}\\widehat{U}\\widetilde{U}(\\widehat{U}\\widetilde{U})^{\\bigtriangleup}+U(\\widehat{U}\\widetilde{U}U\\widehat{\\widetilde{U}})^{\\bigtriangleup}+U\\widetilde{U}(\\widetilde{U}U\\widehat{\\widetilde{U}})^{\\bigtriangleup}+U\\widetilde{U}(\\widehat{U}U\\widehat{\\widetilde{U}})^{\\bigtriangleup}+U\\widetilde{U}(\\widehat{U}\\widetilde{U}\\widehat{\\widetilde{U}})^{\\bigtriangleup}+U\\widetilde{U}(\\widehat{U}\\widetilde{U}U)^{\\bigtriangleup}+U\\widehat{U}(\\widetilde{U}U\\widehat{\\widetilde{U}})^{\\bigtriangleup}+U\\widehat{U}(\\widehat{U}U\\widehat{\\widetilde{U}})^{\\bigtriangleup}+U\\widehat{U}(\\widehat{U}\\widetilde{U}\\widehat{\\widetilde{U}})^{\\bigtriangleup}+U\\widehat{U}(\\widehat{U}\\widetilde{U}U)^{\\bigtriangleup}+U\\widehat{U}\\widetilde{U}(U\\widehat{\\widetilde{U}})^{\\bigtriangleup}+U\\widehat{U}\\widetilde{U}(\\widetilde{U}\\widehat{\\widetilde{U}})^{\\bigtriangleup}+U\\widehat{U}\\widetilde{U}(\\widetilde{U}U)^{\\bigtriangleup}+U\\widehat{U}\\widetilde{U}(\\widehat{U}\\widehat{\\widetilde{U}})^{\\bigtriangleup}+U\\widehat{U}\\widetilde{U}(\\widehat{U}U)^{\\bigtriangleup}+U\\widehat{U}\\widetilde{U}(\\widehat{U}\\widetilde{U})^{\\bigtriangleup}+U\\widehat{\\widetilde{U}}(\\widetilde{U}U\\widehat{\\widetilde{U}})^{\\bigtriangleup}+U\\widehat{\\widetilde{U}}(\\widehat{U}U\\widehat{\\widetilde{U}})^{\\bigtriangleup}+U\\widehat{\\widetilde{U}}(\\widehat{U}\\widetilde{U}\\widehat{\\widetilde{U}})^{\\bigtriangleup}+U\\widehat{\\widetilde{U}}(\\widehat{U}\\widetilde{U}U)^{\\bigtriangleup}+U\\widehat{\\widetilde{U}}\\widetilde{U}(U\\widehat{\\widetilde{U}})^{\\bigtriangleup}+U\\widehat{\\widetilde{U}}\\widetilde{U}(\\widetilde{U}\\widehat{\\widetilde{U}})^{\\bigtriangleup}+U\\widehat{\\widetilde{U}}\\widetilde{U}(\\widetilde{U}U)^{\\bigtriangleup}+U\\widehat{\\widetilde{U}}\\widetilde{U}(\\widehat{U}\\widehat{\\widetilde{U}})^{\\bigtriangleup}+U\\widehat{\\widetilde{U}}\\widetilde{U}(\\widehat{U}U)^{\\bigtriangleup}+U\\widehat{\\widetilde{U}}\\widetilde{U}(\\widehat{U}\\widetilde{U})^{\\bigtriangleup}+U\\widehat{\\widetilde{U}}\\widehat{U}(U\\widehat{\\widetilde{U}})^{\\bigtriangleup}+U\\widehat{\\widetilde{U}}\\widehat{U}(\\widetilde{U}\\widehat{\\widetilde{U}})^{\\bigtriangleup}+U\\widehat{\\widetilde{U}}\\widehat{U}(\\widetilde{U}U)^{\\bigtriangleup}+U\\widehat{\\widetilde{U}}\\widehat{U}(\\widehat{U}\\widehat{\\widetilde{U}})^{\\bigtriangleup}+U\\widehat{\\widetilde{U}}\\widehat{U}(\\widehat{U}U)^{\\bigtriangleup}+U\\widehat{\\widetilde{U}}\\widehat{U}(\\widehat{U}\\widetilde{U})^{\\bigtriangleup}+U\\widehat{\\widetilde{U}}\\widehat{U}\\widetilde{U}\\widehat{\\widetilde{U}}^{\\bigtriangleup}+U\\widehat{\\widetilde{U}}\\widehat{U}\\widetilde{U}U^{\\bigtriangleup}+U\\widehat{\\widetilde{U}}\\widehat{U}\\widetilde{U}\\widetilde{U}^{\\bigtriangleup}+U\\widehat{\\widetilde{U}}\\widehat{U}\\widetilde{U}\\widehat{U}^{\\bigtriangleup}), n=5$$"
          },
          "metadata": {}
        },
        {
          "output_type": "stream",
          "name": "stdout",
          "text": [
            "\n"
          ]
        },
        {
          "output_type": "display_data",
          "data": {
            "text/plain": [
              "<IPython.core.display.Math object>"
            ],
            "text/latex": "$$C_{(6)}=\\widehat{U}\\widetilde{U}(\\widehat{U}\\widetilde{U}U\\widehat{\\widetilde{U}})^{\\bigtriangleup}+\\widehat{\\widetilde{U}}\\widetilde{U}(\\widehat{U}\\widetilde{U}U\\widehat{\\widetilde{U}})^{\\bigtriangleup}+\\widehat{\\widetilde{U}}\\widehat{U}(\\widehat{U}\\widetilde{U}U\\widehat{\\widetilde{U}})^{\\bigtriangleup}+\\widehat{\\widetilde{U}}\\widehat{U}\\widetilde{U}(\\widetilde{U}U\\widehat{\\widetilde{U}})^{\\bigtriangleup}+\\widehat{\\widetilde{U}}\\widehat{U}\\widetilde{U}(\\widehat{U}U\\widehat{\\widetilde{U}})^{\\bigtriangleup}+\\widehat{\\widetilde{U}}\\widehat{U}\\widetilde{U}(\\widehat{U}\\widetilde{U}\\widehat{\\widetilde{U}})^{\\bigtriangleup}+\\widehat{\\widetilde{U}}\\widehat{U}\\widetilde{U}(\\widehat{U}\\widetilde{U}U)^{\\bigtriangleup}+U\\widetilde{U}(\\widehat{U}\\widetilde{U}U\\widehat{\\widetilde{U}})^{\\bigtriangleup}+U\\widehat{U}(\\widehat{U}\\widetilde{U}U\\widehat{\\widetilde{U}})^{\\bigtriangleup}+U\\widehat{U}\\widetilde{U}(\\widetilde{U}U\\widehat{\\widetilde{U}})^{\\bigtriangleup}+U\\widehat{U}\\widetilde{U}(\\widehat{U}U\\widehat{\\widetilde{U}})^{\\bigtriangleup}+U\\widehat{U}\\widetilde{U}(\\widehat{U}\\widetilde{U}\\widehat{\\widetilde{U}})^{\\bigtriangleup}+U\\widehat{U}\\widetilde{U}(\\widehat{U}\\widetilde{U}U)^{\\bigtriangleup}+U\\widehat{\\widetilde{U}}(\\widehat{U}\\widetilde{U}U\\widehat{\\widetilde{U}})^{\\bigtriangleup}+U\\widehat{\\widetilde{U}}\\widetilde{U}(\\widetilde{U}U\\widehat{\\widetilde{U}})^{\\bigtriangleup}+U\\widehat{\\widetilde{U}}\\widetilde{U}(\\widehat{U}U\\widehat{\\widetilde{U}})^{\\bigtriangleup}+U\\widehat{\\widetilde{U}}\\widetilde{U}(\\widehat{U}\\widetilde{U}\\widehat{\\widetilde{U}})^{\\bigtriangleup}+U\\widehat{\\widetilde{U}}\\widetilde{U}(\\widehat{U}\\widetilde{U}U)^{\\bigtriangleup}+U\\widehat{\\widetilde{U}}\\widehat{U}(\\widetilde{U}U\\widehat{\\widetilde{U}})^{\\bigtriangleup}+U\\widehat{\\widetilde{U}}\\widehat{U}(\\widehat{U}U\\widehat{\\widetilde{U}})^{\\bigtriangleup}+U\\widehat{\\widetilde{U}}\\widehat{U}(\\widehat{U}\\widetilde{U}\\widehat{\\widetilde{U}})^{\\bigtriangleup}+U\\widehat{\\widetilde{U}}\\widehat{U}(\\widehat{U}\\widetilde{U}U)^{\\bigtriangleup}+U\\widehat{\\widetilde{U}}\\widehat{U}\\widetilde{U}(U\\widehat{\\widetilde{U}})^{\\bigtriangleup}+U\\widehat{\\widetilde{U}}\\widehat{U}\\widetilde{U}(\\widetilde{U}\\widehat{\\widetilde{U}})^{\\bigtriangleup}+U\\widehat{\\widetilde{U}}\\widehat{U}\\widetilde{U}(\\widetilde{U}U)^{\\bigtriangleup}+U\\widehat{\\widetilde{U}}\\widehat{U}\\widetilde{U}(\\widehat{U}\\widehat{\\widetilde{U}})^{\\bigtriangleup}+U\\widehat{\\widetilde{U}}\\widehat{U}\\widetilde{U}(\\widehat{U}U)^{\\bigtriangleup}+U\\widehat{\\widetilde{U}}\\widehat{U}\\widetilde{U}(\\widehat{U}\\widetilde{U})^{\\bigtriangleup}, n=5$$"
          },
          "metadata": {}
        },
        {
          "output_type": "stream",
          "name": "stdout",
          "text": [
            "\n"
          ]
        },
        {
          "output_type": "display_data",
          "data": {
            "text/plain": [
              "<IPython.core.display.Math object>"
            ],
            "text/latex": "$$C_{(7)}=-(\\widehat{\\widetilde{U}}\\widehat{U}\\widetilde{U}(\\widehat{U}\\widetilde{U}U\\widehat{\\widetilde{U}})^{\\bigtriangleup}+U\\widehat{U}\\widetilde{U}(\\widehat{U}\\widetilde{U}U\\widehat{\\widetilde{U}})^{\\bigtriangleup}+U\\widehat{\\widetilde{U}}\\widetilde{U}(\\widehat{U}\\widetilde{U}U\\widehat{\\widetilde{U}})^{\\bigtriangleup}+U\\widehat{\\widetilde{U}}\\widehat{U}(\\widehat{U}\\widetilde{U}U\\widehat{\\widetilde{U}})^{\\bigtriangleup}+U\\widehat{\\widetilde{U}}\\widehat{U}\\widetilde{U}(\\widetilde{U}U\\widehat{\\widetilde{U}})^{\\bigtriangleup}+U\\widehat{\\widetilde{U}}\\widehat{U}\\widetilde{U}(\\widehat{U}U\\widehat{\\widetilde{U}})^{\\bigtriangleup}+U\\widehat{\\widetilde{U}}\\widehat{U}\\widetilde{U}(\\widehat{U}\\widetilde{U}\\widehat{\\widetilde{U}})^{\\bigtriangleup}+U\\widehat{\\widetilde{U}}\\widehat{U}\\widetilde{U}(\\widehat{U}\\widetilde{U}U)^{\\bigtriangleup}), n=5$$"
          },
          "metadata": {}
        },
        {
          "output_type": "stream",
          "name": "stdout",
          "text": [
            "\n"
          ]
        },
        {
          "output_type": "display_data",
          "data": {
            "text/plain": [
              "<IPython.core.display.Math object>"
            ],
            "text/latex": "$$C_{(8)}=U\\widehat{\\widetilde{U}}\\widehat{U}\\widetilde{U}(\\widehat{U}\\widetilde{U}U\\widehat{\\widetilde{U}})^{\\bigtriangleup}, n=5$$"
          },
          "metadata": {}
        },
        {
          "output_type": "stream",
          "name": "stdout",
          "text": [
            "\n"
          ]
        }
      ]
    },
    {
      "cell_type": "code",
      "source": [
        "i=1\n",
        "Math('C_{(1)}='+n6_gform_latex[i-1]+', n=2')"
      ],
      "metadata": {
        "colab": {
          "base_uri": "https://localhost:8080/",
          "height": 47
        },
        "id": "qOzHDFasVPmf",
        "outputId": "e520c45a-efb7-4909-bd6b-ae4a505ceba2"
      },
      "execution_count": 47,
      "outputs": [
        {
          "output_type": "execute_result",
          "data": {
            "text/plain": [
              "<IPython.core.display.Math object>"
            ],
            "text/latex": "$$C_{(1)}=\\frac{1}{3}\\cdot-(\\widetilde{U}^{\\bigtriangleup}+U^{\\bigtriangleup}+\\widehat{\\widetilde{U}}^{\\bigtriangleup}+\\widehat{U}^{\\bigtriangleup}+\\widehat{\\widetilde{U}}+\\widehat{U}+\\widetilde{U}+U)+\\frac{2}{3}\\cdot-(\\widetilde{U}^{\\bigtriangleup}+U^{\\bigtriangleup}+\\widehat{\\widetilde{U}}^{\\bigtriangleup}+\\widehat{U}^{\\bigtriangleup}+\\widehat{\\widetilde{U}}+\\widehat{U}+\\widetilde{U}+U), n=2$$"
          },
          "metadata": {},
          "execution_count": 47
        }
      ]
    }
  ],
  "metadata": {
    "colab": {
      "collapsed_sections": [],
      "name": "Example | coefficients_explicit_genralform.ipynb",
      "provenance": []
    },
    "kernelspec": {
      "display_name": "Python 3",
      "language": "python",
      "name": "python3"
    },
    "language_info": {
      "codemirror_mode": {
        "name": "ipython",
        "version": 3
      },
      "file_extension": ".py",
      "mimetype": "text/x-python",
      "name": "python",
      "nbconvert_exporter": "python",
      "pygments_lexer": "ipython3",
      "version": "3.9.5"
    }
  },
  "nbformat": 4,
  "nbformat_minor": 0
}